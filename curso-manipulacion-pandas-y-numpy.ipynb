{
 "cells": [
  {
   "cell_type": "markdown",
   "id": "43a13daa",
   "metadata": {
    "papermill": {
     "duration": 0.012974,
     "end_time": "2022-09-08T11:04:23.271630",
     "exception": false,
     "start_time": "2022-09-08T11:04:23.258656",
     "status": "completed"
    },
    "tags": []
   },
   "source": [
    "## Curso de Manipulacion y Transformacion de Datos con Pandas y Numpy"
   ]
  },
  {
   "cell_type": "markdown",
   "id": "6f91f1d2",
   "metadata": {
    "papermill": {
     "duration": 0.011284,
     "end_time": "2022-09-08T11:04:23.294619",
     "exception": false,
     "start_time": "2022-09-08T11:04:23.283335",
     "status": "completed"
    },
    "tags": []
   },
   "source": [
    "## **Numpy Array**"
   ]
  },
  {
   "cell_type": "code",
   "execution_count": 1,
   "id": "384d0f07",
   "metadata": {
    "_cell_guid": "b1076dfc-b9ad-4769-8c92-a6c4dae69d19",
    "_uuid": "8f2839f25d086af736a60e9eeb907d3b93b6e0e5",
    "execution": {
     "iopub.execute_input": "2022-09-08T11:04:23.320715Z",
     "iopub.status.busy": "2022-09-08T11:04:23.320163Z",
     "iopub.status.idle": "2022-09-08T11:04:23.330728Z",
     "shell.execute_reply": "2022-09-08T11:04:23.329625Z"
    },
    "papermill": {
     "duration": 0.026454,
     "end_time": "2022-09-08T11:04:23.333294",
     "exception": false,
     "start_time": "2022-09-08T11:04:23.306840",
     "status": "completed"
    },
    "tags": []
   },
   "outputs": [],
   "source": [
    "import numpy as np \n",
    "import pandas as pd "
   ]
  },
  {
   "cell_type": "markdown",
   "id": "b0ca399d",
   "metadata": {
    "papermill": {
     "duration": 0.011421,
     "end_time": "2022-09-08T11:04:23.356399",
     "exception": false,
     "start_time": "2022-09-08T11:04:23.344978",
     "status": "completed"
    },
    "tags": []
   },
   "source": [
    "### **Array**\n",
    "* La estructura central de Numpy \n",
    "* Representa datos de manera estructurada\n",
    "* Indexado\n",
    "* Acceso a uno o muchos elementos"
   ]
  },
  {
   "cell_type": "code",
   "execution_count": null,
   "id": "97218810",
   "metadata": {
    "papermill": {
     "duration": 0.011219,
     "end_time": "2022-09-08T11:04:23.379272",
     "exception": false,
     "start_time": "2022-09-08T11:04:23.368053",
     "status": "completed"
    },
    "tags": []
   },
   "outputs": [],
   "source": []
  },
  {
   "cell_type": "code",
   "execution_count": 2,
   "id": "b59bb9dc",
   "metadata": {
    "execution": {
     "iopub.execute_input": "2022-09-08T11:04:23.405314Z",
     "iopub.status.busy": "2022-09-08T11:04:23.404809Z",
     "iopub.status.idle": "2022-09-08T11:04:23.414036Z",
     "shell.execute_reply": "2022-09-08T11:04:23.413194Z"
    },
    "papermill": {
     "duration": 0.024839,
     "end_time": "2022-09-08T11:04:23.416361",
     "exception": false,
     "start_time": "2022-09-08T11:04:23.391522",
     "status": "completed"
    },
    "tags": []
   },
   "outputs": [
    {
     "data": {
      "text/plain": [
       "[0, 1, 2, 3, 4, 5, 6, 7, 8, 9]"
      ]
     },
     "execution_count": 2,
     "metadata": {},
     "output_type": "execute_result"
    }
   ],
   "source": [
    "lista = [0,1,2,3,4,5,6,7,8,9]\n",
    "lista"
   ]
  },
  {
   "cell_type": "code",
   "execution_count": 3,
   "id": "5d46f1bc",
   "metadata": {
    "execution": {
     "iopub.execute_input": "2022-09-08T11:04:23.442696Z",
     "iopub.status.busy": "2022-09-08T11:04:23.441908Z",
     "iopub.status.idle": "2022-09-08T11:04:23.448334Z",
     "shell.execute_reply": "2022-09-08T11:04:23.447542Z"
    },
    "papermill": {
     "duration": 0.022274,
     "end_time": "2022-09-08T11:04:23.450334",
     "exception": false,
     "start_time": "2022-09-08T11:04:23.428060",
     "status": "completed"
    },
    "tags": []
   },
   "outputs": [
    {
     "data": {
      "text/plain": [
       "numpy.ndarray"
      ]
     },
     "execution_count": 3,
     "metadata": {},
     "output_type": "execute_result"
    }
   ],
   "source": [
    "arr = np.array(lista)\n",
    "type(arr)"
   ]
  },
  {
   "cell_type": "code",
   "execution_count": 4,
   "id": "46a44165",
   "metadata": {
    "execution": {
     "iopub.execute_input": "2022-09-08T11:04:23.476947Z",
     "iopub.status.busy": "2022-09-08T11:04:23.476088Z",
     "iopub.status.idle": "2022-09-08T11:04:23.486361Z",
     "shell.execute_reply": "2022-09-08T11:04:23.485415Z"
    },
    "papermill": {
     "duration": 0.026084,
     "end_time": "2022-09-08T11:04:23.488360",
     "exception": false,
     "start_time": "2022-09-08T11:04:23.462276",
     "status": "completed"
    },
    "tags": []
   },
   "outputs": [
    {
     "data": {
      "text/plain": [
       "array([[1, 2, 3],\n",
       "       [4, 5, 6],\n",
       "       [7, 8, 9]])"
      ]
     },
     "execution_count": 4,
     "metadata": {},
     "output_type": "execute_result"
    }
   ],
   "source": [
    "matriz = ([1,2,3],[4,5,6],[7,8,9])\n",
    "matriz = np.array(matriz)\n",
    "matriz"
   ]
  },
  {
   "cell_type": "code",
   "execution_count": 5,
   "id": "0836e4bb",
   "metadata": {
    "execution": {
     "iopub.execute_input": "2022-09-08T11:04:23.514863Z",
     "iopub.status.busy": "2022-09-08T11:04:23.514071Z",
     "iopub.status.idle": "2022-09-08T11:04:23.521004Z",
     "shell.execute_reply": "2022-09-08T11:04:23.519901Z"
    },
    "papermill": {
     "duration": 0.022997,
     "end_time": "2022-09-08T11:04:23.523338",
     "exception": false,
     "start_time": "2022-09-08T11:04:23.500341",
     "status": "completed"
    },
    "tags": []
   },
   "outputs": [
    {
     "data": {
      "text/plain": [
       "3"
      ]
     },
     "execution_count": 5,
     "metadata": {},
     "output_type": "execute_result"
    }
   ],
   "source": [
    "matriz [0,2]"
   ]
  },
  {
   "cell_type": "code",
   "execution_count": 6,
   "id": "33dc4464",
   "metadata": {
    "execution": {
     "iopub.execute_input": "2022-09-08T11:04:23.550926Z",
     "iopub.status.busy": "2022-09-08T11:04:23.549946Z",
     "iopub.status.idle": "2022-09-08T11:04:23.557363Z",
     "shell.execute_reply": "2022-09-08T11:04:23.556340Z"
    },
    "papermill": {
     "duration": 0.023555,
     "end_time": "2022-09-08T11:04:23.559674",
     "exception": false,
     "start_time": "2022-09-08T11:04:23.536119",
     "status": "completed"
    },
    "tags": []
   },
   "outputs": [
    {
     "data": {
      "text/plain": [
       "array([0, 1, 2, 3, 4, 5, 6, 7, 8, 9])"
      ]
     },
     "execution_count": 6,
     "metadata": {},
     "output_type": "execute_result"
    }
   ],
   "source": [
    "arr"
   ]
  },
  {
   "cell_type": "markdown",
   "id": "1570d1b8",
   "metadata": {
    "papermill": {
     "duration": 0.011808,
     "end_time": "2022-09-08T11:04:23.584076",
     "exception": false,
     "start_time": "2022-09-08T11:04:23.572268",
     "status": "completed"
    },
    "tags": []
   },
   "source": [
    "### **Slicing**"
   ]
  },
  {
   "cell_type": "code",
   "execution_count": 7,
   "id": "7b876228",
   "metadata": {
    "execution": {
     "iopub.execute_input": "2022-09-08T11:04:23.610990Z",
     "iopub.status.busy": "2022-09-08T11:04:23.610450Z",
     "iopub.status.idle": "2022-09-08T11:04:23.617312Z",
     "shell.execute_reply": "2022-09-08T11:04:23.616509Z"
    },
    "papermill": {
     "duration": 0.022943,
     "end_time": "2022-09-08T11:04:23.619136",
     "exception": false,
     "start_time": "2022-09-08T11:04:23.596193",
     "status": "completed"
    },
    "tags": []
   },
   "outputs": [
    {
     "data": {
      "text/plain": [
       "array([False,  True,  True,  True,  True,  True,  True,  True,  True,\n",
       "        True])"
      ]
     },
     "execution_count": 7,
     "metadata": {},
     "output_type": "execute_result"
    }
   ],
   "source": [
    "arr\n",
    "arr = arr.astype(np.bool_)\n",
    "arr"
   ]
  },
  {
   "cell_type": "code",
   "execution_count": 8,
   "id": "2acd370f",
   "metadata": {
    "execution": {
     "iopub.execute_input": "2022-09-08T11:04:23.647647Z",
     "iopub.status.busy": "2022-09-08T11:04:23.646417Z",
     "iopub.status.idle": "2022-09-08T11:04:23.653986Z",
     "shell.execute_reply": "2022-09-08T11:04:23.653087Z"
    },
    "papermill": {
     "duration": 0.023635,
     "end_time": "2022-09-08T11:04:23.656099",
     "exception": false,
     "start_time": "2022-09-08T11:04:23.632464",
     "status": "completed"
    },
    "tags": []
   },
   "outputs": [
    {
     "data": {
      "text/plain": [
       "array([b'0', b'1', b'2', b'3', b'4', b'5', b'6', b'7', b'8', b'9'],\n",
       "      dtype='|S21')"
      ]
     },
     "execution_count": 8,
     "metadata": {},
     "output_type": "execute_result"
    }
   ],
   "source": [
    "arr = np.array(lista)\n",
    "arr = arr.astype(np.string_)\n",
    "arr"
   ]
  },
  {
   "cell_type": "markdown",
   "id": "5a5c68d3",
   "metadata": {
    "papermill": {
     "duration": 0.011931,
     "end_time": "2022-09-08T11:04:23.680485",
     "exception": false,
     "start_time": "2022-09-08T11:04:23.668554",
     "status": "completed"
    },
    "tags": []
   },
   "source": [
    "### **Dimensiones**"
   ]
  },
  {
   "cell_type": "code",
   "execution_count": 9,
   "id": "bb8127e8",
   "metadata": {
    "execution": {
     "iopub.execute_input": "2022-09-08T11:04:23.707884Z",
     "iopub.status.busy": "2022-09-08T11:04:23.706668Z",
     "iopub.status.idle": "2022-09-08T11:04:23.714985Z",
     "shell.execute_reply": "2022-09-08T11:04:23.713772Z"
    },
    "papermill": {
     "duration": 0.024142,
     "end_time": "2022-09-08T11:04:23.716988",
     "exception": false,
     "start_time": "2022-09-08T11:04:23.692846",
     "status": "completed"
    },
    "tags": []
   },
   "outputs": [
    {
     "name": "stdout",
     "output_type": "stream",
     "text": [
      "42\n"
     ]
    },
    {
     "data": {
      "text/plain": [
       "0"
      ]
     },
     "execution_count": 9,
     "metadata": {},
     "output_type": "execute_result"
    }
   ],
   "source": [
    "# Definiendo un scalar\n",
    "scalar = np.array(42)\n",
    "print (scalar)\n",
    "scalar.ndim"
   ]
  },
  {
   "cell_type": "code",
   "execution_count": 10,
   "id": "71c3961e",
   "metadata": {
    "execution": {
     "iopub.execute_input": "2022-09-08T11:04:23.744525Z",
     "iopub.status.busy": "2022-09-08T11:04:23.743828Z",
     "iopub.status.idle": "2022-09-08T11:04:23.752097Z",
     "shell.execute_reply": "2022-09-08T11:04:23.750736Z"
    },
    "papermill": {
     "duration": 0.024639,
     "end_time": "2022-09-08T11:04:23.754273",
     "exception": false,
     "start_time": "2022-09-08T11:04:23.729634",
     "status": "completed"
    },
    "tags": []
   },
   "outputs": [
    {
     "name": "stdout",
     "output_type": "stream",
     "text": [
      "[1 2 3]\n"
     ]
    },
    {
     "data": {
      "text/plain": [
       "1"
      ]
     },
     "execution_count": 10,
     "metadata": {},
     "output_type": "execute_result"
    }
   ],
   "source": [
    "# Definiendo un vector\n",
    "vector = np.array([1,2,3])\n",
    "print(vector)\n",
    "vector.ndim"
   ]
  },
  {
   "cell_type": "code",
   "execution_count": 11,
   "id": "d3fd8209",
   "metadata": {
    "execution": {
     "iopub.execute_input": "2022-09-08T11:04:23.783210Z",
     "iopub.status.busy": "2022-09-08T11:04:23.782474Z",
     "iopub.status.idle": "2022-09-08T11:04:23.791230Z",
     "shell.execute_reply": "2022-09-08T11:04:23.789909Z"
    },
    "papermill": {
     "duration": 0.025928,
     "end_time": "2022-09-08T11:04:23.793468",
     "exception": false,
     "start_time": "2022-09-08T11:04:23.767540",
     "status": "completed"
    },
    "tags": []
   },
   "outputs": [
    {
     "name": "stdout",
     "output_type": "stream",
     "text": [
      "[[1 2 3]\n",
      " [4 5 6]\n",
      " [7 8 9]]\n"
     ]
    },
    {
     "data": {
      "text/plain": [
       "2"
      ]
     },
     "execution_count": 11,
     "metadata": {},
     "output_type": "execute_result"
    }
   ],
   "source": [
    "# Definiendo una matriz\n",
    "matriz = np.array([[1,2,3],[4,5,6],[7,8,9]])\n",
    "print(matriz)\n",
    "matriz.ndim"
   ]
  },
  {
   "cell_type": "markdown",
   "id": "d595752d",
   "metadata": {
    "papermill": {
     "duration": 0.012688,
     "end_time": "2022-09-08T11:04:23.819404",
     "exception": false,
     "start_time": "2022-09-08T11:04:23.806716",
     "status": "completed"
    },
    "tags": []
   },
   "source": [
    "### **Creando Arrays**"
   ]
  },
  {
   "cell_type": "code",
   "execution_count": 12,
   "id": "e732bfbc",
   "metadata": {
    "execution": {
     "iopub.execute_input": "2022-09-08T11:04:23.848517Z",
     "iopub.status.busy": "2022-09-08T11:04:23.847674Z",
     "iopub.status.idle": "2022-09-08T11:04:23.856493Z",
     "shell.execute_reply": "2022-09-08T11:04:23.855154Z"
    },
    "papermill": {
     "duration": 0.026173,
     "end_time": "2022-09-08T11:04:23.858902",
     "exception": false,
     "start_time": "2022-09-08T11:04:23.832729",
     "status": "completed"
    },
    "tags": []
   },
   "outputs": [
    {
     "data": {
      "text/plain": [
       "array([ 0,  1,  2,  3,  4,  5,  6,  7,  8,  9, 10, 11, 12, 13, 14, 15, 16,\n",
       "       17, 18, 19])"
      ]
     },
     "execution_count": 12,
     "metadata": {},
     "output_type": "execute_result"
    }
   ],
   "source": [
    "np.arange(0,20,1)"
   ]
  },
  {
   "cell_type": "code",
   "execution_count": 13,
   "id": "463818eb",
   "metadata": {
    "execution": {
     "iopub.execute_input": "2022-09-08T11:04:23.888025Z",
     "iopub.status.busy": "2022-09-08T11:04:23.887519Z",
     "iopub.status.idle": "2022-09-08T11:04:23.894801Z",
     "shell.execute_reply": "2022-09-08T11:04:23.893708Z"
    },
    "papermill": {
     "duration": 0.024829,
     "end_time": "2022-09-08T11:04:23.897388",
     "exception": false,
     "start_time": "2022-09-08T11:04:23.872559",
     "status": "completed"
    },
    "tags": []
   },
   "outputs": [
    {
     "data": {
      "text/plain": [
       "array([0., 0., 0.])"
      ]
     },
     "execution_count": 13,
     "metadata": {},
     "output_type": "execute_result"
    }
   ],
   "source": [
    "np.zeros(3)"
   ]
  },
  {
   "cell_type": "code",
   "execution_count": 14,
   "id": "6753922c",
   "metadata": {
    "execution": {
     "iopub.execute_input": "2022-09-08T11:04:23.926971Z",
     "iopub.status.busy": "2022-09-08T11:04:23.926123Z",
     "iopub.status.idle": "2022-09-08T11:04:23.934464Z",
     "shell.execute_reply": "2022-09-08T11:04:23.933389Z"
    },
    "papermill": {
     "duration": 0.025906,
     "end_time": "2022-09-08T11:04:23.936645",
     "exception": false,
     "start_time": "2022-09-08T11:04:23.910739",
     "status": "completed"
    },
    "tags": []
   },
   "outputs": [
    {
     "data": {
      "text/plain": [
       "array([[0., 0., 0., 0., 0., 0., 0., 0., 0., 0.],\n",
       "       [0., 0., 0., 0., 0., 0., 0., 0., 0., 0.],\n",
       "       [0., 0., 0., 0., 0., 0., 0., 0., 0., 0.],\n",
       "       [0., 0., 0., 0., 0., 0., 0., 0., 0., 0.],\n",
       "       [0., 0., 0., 0., 0., 0., 0., 0., 0., 0.],\n",
       "       [0., 0., 0., 0., 0., 0., 0., 0., 0., 0.],\n",
       "       [0., 0., 0., 0., 0., 0., 0., 0., 0., 0.],\n",
       "       [0., 0., 0., 0., 0., 0., 0., 0., 0., 0.],\n",
       "       [0., 0., 0., 0., 0., 0., 0., 0., 0., 0.],\n",
       "       [0., 0., 0., 0., 0., 0., 0., 0., 0., 0.]])"
      ]
     },
     "execution_count": 14,
     "metadata": {},
     "output_type": "execute_result"
    }
   ],
   "source": [
    "# Esto es util para crear array de iteracion o de imagenes con tamaños definidos\n",
    "np.zeros((10,10))\n"
   ]
  },
  {
   "cell_type": "code",
   "execution_count": 15,
   "id": "ecd741e7",
   "metadata": {
    "execution": {
     "iopub.execute_input": "2022-09-08T11:04:23.966066Z",
     "iopub.status.busy": "2022-09-08T11:04:23.965582Z",
     "iopub.status.idle": "2022-09-08T11:04:23.973342Z",
     "shell.execute_reply": "2022-09-08T11:04:23.972327Z"
    },
    "papermill": {
     "duration": 0.025165,
     "end_time": "2022-09-08T11:04:23.975464",
     "exception": false,
     "start_time": "2022-09-08T11:04:23.950299",
     "status": "completed"
    },
    "tags": []
   },
   "outputs": [
    {
     "data": {
      "text/plain": [
       "array([[1., 1., 1., 1., 1.],\n",
       "       [1., 1., 1., 1., 1.],\n",
       "       [1., 1., 1., 1., 1.],\n",
       "       [1., 1., 1., 1., 1.],\n",
       "       [1., 1., 1., 1., 1.]])"
      ]
     },
     "execution_count": 15,
     "metadata": {},
     "output_type": "execute_result"
    }
   ],
   "source": [
    "np.ones((5,5))"
   ]
  },
  {
   "cell_type": "code",
   "execution_count": 16,
   "id": "6ecb4967",
   "metadata": {
    "execution": {
     "iopub.execute_input": "2022-09-08T11:04:24.009969Z",
     "iopub.status.busy": "2022-09-08T11:04:24.009019Z",
     "iopub.status.idle": "2022-09-08T11:04:24.017672Z",
     "shell.execute_reply": "2022-09-08T11:04:24.016088Z"
    },
    "papermill": {
     "duration": 0.030649,
     "end_time": "2022-09-08T11:04:24.020200",
     "exception": false,
     "start_time": "2022-09-08T11:04:23.989551",
     "status": "completed"
    },
    "tags": []
   },
   "outputs": [
    {
     "data": {
      "text/plain": [
       "array([ 0.        ,  0.52631579,  1.05263158,  1.57894737,  2.10526316,\n",
       "        2.63157895,  3.15789474,  3.68421053,  4.21052632,  4.73684211,\n",
       "        5.26315789,  5.78947368,  6.31578947,  6.84210526,  7.36842105,\n",
       "        7.89473684,  8.42105263,  8.94736842,  9.47368421, 10.        ])"
      ]
     },
     "execution_count": 16,
     "metadata": {},
     "output_type": "execute_result"
    }
   ],
   "source": [
    "# Linspace Hace una distribucion de los datos con un rango definido\n",
    "np.linspace(0,10,20)"
   ]
  },
  {
   "cell_type": "code",
   "execution_count": 17,
   "id": "deab4e04",
   "metadata": {
    "execution": {
     "iopub.execute_input": "2022-09-08T11:04:24.051026Z",
     "iopub.status.busy": "2022-09-08T11:04:24.050187Z",
     "iopub.status.idle": "2022-09-08T11:04:24.057722Z",
     "shell.execute_reply": "2022-09-08T11:04:24.056852Z"
    },
    "papermill": {
     "duration": 0.025476,
     "end_time": "2022-09-08T11:04:24.060045",
     "exception": false,
     "start_time": "2022-09-08T11:04:24.034569",
     "status": "completed"
    },
    "tags": []
   },
   "outputs": [
    {
     "data": {
      "text/plain": [
       "array([[1., 0., 0., 0.],\n",
       "       [0., 1., 0., 0.],\n",
       "       [0., 0., 1., 0.],\n",
       "       [0., 0., 0., 1.]])"
      ]
     },
     "execution_count": 17,
     "metadata": {},
     "output_type": "execute_result"
    }
   ],
   "source": [
    "# Return a 2-D array with ones on the diagonal and zeros elsewhere.\n",
    "np.eye(4)"
   ]
  },
  {
   "cell_type": "code",
   "execution_count": 18,
   "id": "3fc84a7d",
   "metadata": {
    "execution": {
     "iopub.execute_input": "2022-09-08T11:04:24.091151Z",
     "iopub.status.busy": "2022-09-08T11:04:24.089990Z",
     "iopub.status.idle": "2022-09-08T11:04:24.098256Z",
     "shell.execute_reply": "2022-09-08T11:04:24.097134Z"
    },
    "papermill": {
     "duration": 0.026528,
     "end_time": "2022-09-08T11:04:24.100479",
     "exception": false,
     "start_time": "2022-09-08T11:04:24.073951",
     "status": "completed"
    },
    "tags": []
   },
   "outputs": [
    {
     "data": {
      "text/plain": [
       "0.3974690373052614"
      ]
     },
     "execution_count": 18,
     "metadata": {},
     "output_type": "execute_result"
    }
   ],
   "source": [
    "np.random.rand()"
   ]
  },
  {
   "cell_type": "code",
   "execution_count": 19,
   "id": "20adee62",
   "metadata": {
    "execution": {
     "iopub.execute_input": "2022-09-08T11:04:24.131693Z",
     "iopub.status.busy": "2022-09-08T11:04:24.131177Z",
     "iopub.status.idle": "2022-09-08T11:04:24.138818Z",
     "shell.execute_reply": "2022-09-08T11:04:24.137819Z"
    },
    "papermill": {
     "duration": 0.026412,
     "end_time": "2022-09-08T11:04:24.140999",
     "exception": false,
     "start_time": "2022-09-08T11:04:24.114587",
     "status": "completed"
    },
    "tags": []
   },
   "outputs": [
    {
     "data": {
      "text/plain": [
       "array([0.83689818, 0.35205424, 0.44967046, 0.40297113])"
      ]
     },
     "execution_count": 19,
     "metadata": {},
     "output_type": "execute_result"
    }
   ],
   "source": [
    "np.random.rand(4)"
   ]
  },
  {
   "cell_type": "code",
   "execution_count": 20,
   "id": "7fa62ec9",
   "metadata": {
    "execution": {
     "iopub.execute_input": "2022-09-08T11:04:24.169886Z",
     "iopub.status.busy": "2022-09-08T11:04:24.169317Z",
     "iopub.status.idle": "2022-09-08T11:04:24.176471Z",
     "shell.execute_reply": "2022-09-08T11:04:24.175769Z"
    },
    "papermill": {
     "duration": 0.026885,
     "end_time": "2022-09-08T11:04:24.181332",
     "exception": false,
     "start_time": "2022-09-08T11:04:24.154447",
     "status": "completed"
    },
    "tags": []
   },
   "outputs": [
    {
     "data": {
      "text/plain": [
       "array([[0.37440454, 0.41508505, 0.06511929, 0.91858716],\n",
       "       [0.88919991, 0.5792989 , 0.43673016, 0.28462195],\n",
       "       [0.48092832, 0.25242116, 0.51808724, 0.168979  ],\n",
       "       [0.62614179, 0.18898291, 0.24853644, 0.5973941 ]])"
      ]
     },
     "execution_count": 20,
     "metadata": {},
     "output_type": "execute_result"
    }
   ],
   "source": [
    "np.random.rand(4,4)"
   ]
  },
  {
   "cell_type": "code",
   "execution_count": 21,
   "id": "ef489ec6",
   "metadata": {
    "execution": {
     "iopub.execute_input": "2022-09-08T11:04:24.213742Z",
     "iopub.status.busy": "2022-09-08T11:04:24.213098Z",
     "iopub.status.idle": "2022-09-08T11:04:24.221860Z",
     "shell.execute_reply": "2022-09-08T11:04:24.221093Z"
    },
    "papermill": {
     "duration": 0.026684,
     "end_time": "2022-09-08T11:04:24.223981",
     "exception": false,
     "start_time": "2022-09-08T11:04:24.197297",
     "status": "completed"
    },
    "tags": []
   },
   "outputs": [
    {
     "data": {
      "text/plain": [
       "4"
      ]
     },
     "execution_count": 21,
     "metadata": {},
     "output_type": "execute_result"
    }
   ],
   "source": [
    "np.random.randint(1,15)"
   ]
  },
  {
   "cell_type": "code",
   "execution_count": 22,
   "id": "8ff8bc36",
   "metadata": {
    "execution": {
     "iopub.execute_input": "2022-09-08T11:04:24.254957Z",
     "iopub.status.busy": "2022-09-08T11:04:24.254457Z",
     "iopub.status.idle": "2022-09-08T11:04:24.263305Z",
     "shell.execute_reply": "2022-09-08T11:04:24.262110Z"
    },
    "papermill": {
     "duration": 0.02669,
     "end_time": "2022-09-08T11:04:24.265795",
     "exception": false,
     "start_time": "2022-09-08T11:04:24.239105",
     "status": "completed"
    },
    "tags": []
   },
   "outputs": [
    {
     "data": {
      "text/plain": [
       "array([[37, 23, 20, 26, 12, 58, 13, 37, 96, 99],\n",
       "       [88,  5, 12, 49, 95, 21, 77, 56,  7, 21],\n",
       "       [33, 20, 24, 23,  3, 86, 69, 99, 80, 71],\n",
       "       [ 4, 78, 57, 33, 17,  2, 71, 58, 32, 34],\n",
       "       [40, 29, 13, 92, 36, 43, 55, 54, 20, 58],\n",
       "       [45, 16, 10, 58, 52, 36, 44, 33, 12, 31],\n",
       "       [57,  7, 19, 24, 99, 14, 47, 37,  9, 96],\n",
       "       [12, 71, 63, 54,  9, 83, 40, 40, 37, 14],\n",
       "       [93, 38,  3, 67, 47, 81,  6,  3, 60, 70],\n",
       "       [36,  3, 25, 25, 28, 79, 81, 76, 38, 65]])"
      ]
     },
     "execution_count": 22,
     "metadata": {},
     "output_type": "execute_result"
    }
   ],
   "source": [
    "np.random.randint(1,100,(10,10))"
   ]
  },
  {
   "cell_type": "markdown",
   "id": "c088a91b",
   "metadata": {
    "papermill": {
     "duration": 0.014269,
     "end_time": "2022-09-08T11:04:24.294020",
     "exception": false,
     "start_time": "2022-09-08T11:04:24.279751",
     "status": "completed"
    },
    "tags": []
   },
   "source": [
    "### **Shape y Reshape**\n",
    "Nos ayuda s identificar las caracteristicas de un arreglo y saber manipularlas"
   ]
  },
  {
   "cell_type": "code",
   "execution_count": 23,
   "id": "8da677c4",
   "metadata": {
    "execution": {
     "iopub.execute_input": "2022-09-08T11:04:24.324512Z",
     "iopub.status.busy": "2022-09-08T11:04:24.323471Z",
     "iopub.status.idle": "2022-09-08T11:04:24.331336Z",
     "shell.execute_reply": "2022-09-08T11:04:24.329966Z"
    },
    "papermill": {
     "duration": 0.02522,
     "end_time": "2022-09-08T11:04:24.333569",
     "exception": false,
     "start_time": "2022-09-08T11:04:24.308349",
     "status": "completed"
    },
    "tags": []
   },
   "outputs": [
    {
     "data": {
      "text/plain": [
       "(3, 2)"
      ]
     },
     "execution_count": 23,
     "metadata": {},
     "output_type": "execute_result"
    }
   ],
   "source": [
    "#Devuelve las dimensiones del arreglo\n",
    "arr = np.random.randint(1,10,(3,2))\n",
    "arr.shape \n"
   ]
  },
  {
   "cell_type": "code",
   "execution_count": 24,
   "id": "77e046cf",
   "metadata": {
    "execution": {
     "iopub.execute_input": "2022-09-08T11:04:24.364022Z",
     "iopub.status.busy": "2022-09-08T11:04:24.363331Z",
     "iopub.status.idle": "2022-09-08T11:04:24.369836Z",
     "shell.execute_reply": "2022-09-08T11:04:24.368927Z"
    },
    "papermill": {
     "duration": 0.024313,
     "end_time": "2022-09-08T11:04:24.371918",
     "exception": false,
     "start_time": "2022-09-08T11:04:24.347605",
     "status": "completed"
    },
    "tags": []
   },
   "outputs": [
    {
     "data": {
      "text/plain": [
       "array([[7, 5],\n",
       "       [2, 6],\n",
       "       [5, 1]])"
      ]
     },
     "execution_count": 24,
     "metadata": {},
     "output_type": "execute_result"
    }
   ],
   "source": [
    "arr"
   ]
  },
  {
   "cell_type": "code",
   "execution_count": 25,
   "id": "f0320970",
   "metadata": {
    "execution": {
     "iopub.execute_input": "2022-09-08T11:04:24.402942Z",
     "iopub.status.busy": "2022-09-08T11:04:24.402241Z",
     "iopub.status.idle": "2022-09-08T11:04:24.408561Z",
     "shell.execute_reply": "2022-09-08T11:04:24.407818Z"
    },
    "papermill": {
     "duration": 0.023954,
     "end_time": "2022-09-08T11:04:24.410555",
     "exception": false,
     "start_time": "2022-09-08T11:04:24.386601",
     "status": "completed"
    },
    "tags": []
   },
   "outputs": [
    {
     "data": {
      "text/plain": [
       "array([[7, 5, 2, 6, 5, 1]])"
      ]
     },
     "execution_count": 25,
     "metadata": {},
     "output_type": "execute_result"
    }
   ],
   "source": [
    "# Cambia la forma del arreglo \n",
    "# Reshape, Gives a new shape to an array without changing its data.\n",
    "arr.reshape(1,6)"
   ]
  },
  {
   "cell_type": "code",
   "execution_count": 26,
   "id": "b86492a0",
   "metadata": {
    "execution": {
     "iopub.execute_input": "2022-09-08T11:04:24.441687Z",
     "iopub.status.busy": "2022-09-08T11:04:24.441206Z",
     "iopub.status.idle": "2022-09-08T11:04:24.448905Z",
     "shell.execute_reply": "2022-09-08T11:04:24.447856Z"
    },
    "papermill": {
     "duration": 0.025812,
     "end_time": "2022-09-08T11:04:24.451006",
     "exception": false,
     "start_time": "2022-09-08T11:04:24.425194",
     "status": "completed"
    },
    "tags": []
   },
   "outputs": [
    {
     "data": {
      "text/plain": [
       "array([[7, 5, 2],\n",
       "       [6, 5, 1]])"
      ]
     },
     "execution_count": 26,
     "metadata": {},
     "output_type": "execute_result"
    }
   ],
   "source": [
    "arr.reshape(2,3)"
   ]
  },
  {
   "cell_type": "code",
   "execution_count": 27,
   "id": "5682eab9",
   "metadata": {
    "execution": {
     "iopub.execute_input": "2022-09-08T11:04:24.481877Z",
     "iopub.status.busy": "2022-09-08T11:04:24.481450Z",
     "iopub.status.idle": "2022-09-08T11:04:24.487894Z",
     "shell.execute_reply": "2022-09-08T11:04:24.486921Z"
    },
    "papermill": {
     "duration": 0.024596,
     "end_time": "2022-09-08T11:04:24.490333",
     "exception": false,
     "start_time": "2022-09-08T11:04:24.465737",
     "status": "completed"
    },
    "tags": []
   },
   "outputs": [
    {
     "data": {
      "text/plain": [
       "array([[7, 5, 2, 6, 5, 1]])"
      ]
     },
     "execution_count": 27,
     "metadata": {},
     "output_type": "execute_result"
    }
   ],
   "source": [
    "np.reshape(arr,(1,6))"
   ]
  },
  {
   "cell_type": "markdown",
   "id": "39ce2d6a",
   "metadata": {
    "papermill": {
     "duration": 0.014188,
     "end_time": "2022-09-08T11:04:24.519012",
     "exception": false,
     "start_time": "2022-09-08T11:04:24.504824",
     "status": "completed"
    },
    "tags": []
   },
   "source": [
    "### **Funciones principales de Numpy**"
   ]
  },
  {
   "cell_type": "code",
   "execution_count": 28,
   "id": "ff00114e",
   "metadata": {
    "execution": {
     "iopub.execute_input": "2022-09-08T11:04:24.550019Z",
     "iopub.status.busy": "2022-09-08T11:04:24.549322Z",
     "iopub.status.idle": "2022-09-08T11:04:24.555839Z",
     "shell.execute_reply": "2022-09-08T11:04:24.555010Z"
    },
    "papermill": {
     "duration": 0.024095,
     "end_time": "2022-09-08T11:04:24.557795",
     "exception": false,
     "start_time": "2022-09-08T11:04:24.533700",
     "status": "completed"
    },
    "tags": []
   },
   "outputs": [
    {
     "data": {
      "text/plain": [
       "array([ 5, 12, 14, 17,  4,  5,  6,  6, 17,  4])"
      ]
     },
     "execution_count": 28,
     "metadata": {},
     "output_type": "execute_result"
    }
   ],
   "source": [
    "arr = np.random.randint(1,20,10)\n",
    "arr"
   ]
  },
  {
   "cell_type": "code",
   "execution_count": 29,
   "id": "8c9e278b",
   "metadata": {
    "execution": {
     "iopub.execute_input": "2022-09-08T11:04:24.588706Z",
     "iopub.status.busy": "2022-09-08T11:04:24.588167Z",
     "iopub.status.idle": "2022-09-08T11:04:24.594557Z",
     "shell.execute_reply": "2022-09-08T11:04:24.593616Z"
    },
    "papermill": {
     "duration": 0.024284,
     "end_time": "2022-09-08T11:04:24.596529",
     "exception": false,
     "start_time": "2022-09-08T11:04:24.572245",
     "status": "completed"
    },
    "tags": []
   },
   "outputs": [
    {
     "data": {
      "text/plain": [
       "array([[ 5, 12, 14, 17,  4],\n",
       "       [ 5,  6,  6, 17,  4]])"
      ]
     },
     "execution_count": 29,
     "metadata": {},
     "output_type": "execute_result"
    }
   ],
   "source": [
    "matriz = arr.reshape(2,5)\n",
    "matriz"
   ]
  },
  {
   "cell_type": "code",
   "execution_count": 30,
   "id": "13e9150c",
   "metadata": {
    "execution": {
     "iopub.execute_input": "2022-09-08T11:04:24.628246Z",
     "iopub.status.busy": "2022-09-08T11:04:24.627492Z",
     "iopub.status.idle": "2022-09-08T11:04:24.633466Z",
     "shell.execute_reply": "2022-09-08T11:04:24.632612Z"
    },
    "papermill": {
     "duration": 0.024544,
     "end_time": "2022-09-08T11:04:24.635551",
     "exception": false,
     "start_time": "2022-09-08T11:04:24.611007",
     "status": "completed"
    },
    "tags": []
   },
   "outputs": [
    {
     "data": {
      "text/plain": [
       "17"
      ]
     },
     "execution_count": 30,
     "metadata": {},
     "output_type": "execute_result"
    }
   ],
   "source": [
    "# Devuelve el maximo valor en la matriz\n",
    "matriz.max()"
   ]
  },
  {
   "cell_type": "code",
   "execution_count": 31,
   "id": "43dfe027",
   "metadata": {
    "execution": {
     "iopub.execute_input": "2022-09-08T11:04:24.668769Z",
     "iopub.status.busy": "2022-09-08T11:04:24.667961Z",
     "iopub.status.idle": "2022-09-08T11:04:24.674361Z",
     "shell.execute_reply": "2022-09-08T11:04:24.673456Z"
    },
    "papermill": {
     "duration": 0.025422,
     "end_time": "2022-09-08T11:04:24.676520",
     "exception": false,
     "start_time": "2022-09-08T11:04:24.651098",
     "status": "completed"
    },
    "tags": []
   },
   "outputs": [
    {
     "data": {
      "text/plain": [
       "array([17, 17])"
      ]
     },
     "execution_count": 31,
     "metadata": {},
     "output_type": "execute_result"
    }
   ],
   "source": [
    "# Devuelve el valor maximo en una fila\n",
    "matriz.max(1)"
   ]
  },
  {
   "cell_type": "code",
   "execution_count": 32,
   "id": "bf4d4e73",
   "metadata": {
    "execution": {
     "iopub.execute_input": "2022-09-08T11:04:24.709212Z",
     "iopub.status.busy": "2022-09-08T11:04:24.708301Z",
     "iopub.status.idle": "2022-09-08T11:04:24.715960Z",
     "shell.execute_reply": "2022-09-08T11:04:24.714855Z"
    },
    "papermill": {
     "duration": 0.026543,
     "end_time": "2022-09-08T11:04:24.718150",
     "exception": false,
     "start_time": "2022-09-08T11:04:24.691607",
     "status": "completed"
    },
    "tags": []
   },
   "outputs": [
    {
     "data": {
      "text/plain": [
       "3"
      ]
     },
     "execution_count": 32,
     "metadata": {},
     "output_type": "execute_result"
    }
   ],
   "source": [
    "# Devuelve el indice del el valor maximo que se encuentra ubicado en el vector del array \n",
    "arr.argmax()"
   ]
  },
  {
   "cell_type": "code",
   "execution_count": 33,
   "id": "985f070f",
   "metadata": {
    "execution": {
     "iopub.execute_input": "2022-09-08T11:04:24.753541Z",
     "iopub.status.busy": "2022-09-08T11:04:24.752815Z",
     "iopub.status.idle": "2022-09-08T11:04:24.760292Z",
     "shell.execute_reply": "2022-09-08T11:04:24.758857Z"
    },
    "papermill": {
     "duration": 0.027889,
     "end_time": "2022-09-08T11:04:24.762564",
     "exception": false,
     "start_time": "2022-09-08T11:04:24.734675",
     "status": "completed"
    },
    "tags": []
   },
   "outputs": [
    {
     "data": {
      "text/plain": [
       "4"
      ]
     },
     "execution_count": 33,
     "metadata": {},
     "output_type": "execute_result"
    }
   ],
   "source": [
    "# Devuelve el valor minimo\n",
    "arr.min()"
   ]
  },
  {
   "cell_type": "code",
   "execution_count": 34,
   "id": "cde5c377",
   "metadata": {
    "execution": {
     "iopub.execute_input": "2022-09-08T11:04:24.796546Z",
     "iopub.status.busy": "2022-09-08T11:04:24.795166Z",
     "iopub.status.idle": "2022-09-08T11:04:24.801946Z",
     "shell.execute_reply": "2022-09-08T11:04:24.801196Z"
    },
    "papermill": {
     "duration": 0.025915,
     "end_time": "2022-09-08T11:04:24.804064",
     "exception": false,
     "start_time": "2022-09-08T11:04:24.778149",
     "status": "completed"
    },
    "tags": []
   },
   "outputs": [
    {
     "data": {
      "text/plain": [
       "13"
      ]
     },
     "execution_count": 34,
     "metadata": {},
     "output_type": "execute_result"
    }
   ],
   "source": [
    "# Pic to Pic, devuelve el valor entre los picos minimo y maximo del array \n",
    "arr.ptp()"
   ]
  },
  {
   "cell_type": "code",
   "execution_count": 35,
   "id": "ff3755e4",
   "metadata": {
    "execution": {
     "iopub.execute_input": "2022-09-08T11:04:24.838983Z",
     "iopub.status.busy": "2022-09-08T11:04:24.837448Z",
     "iopub.status.idle": "2022-09-08T11:04:24.846555Z",
     "shell.execute_reply": "2022-09-08T11:04:24.845851Z"
    },
    "papermill": {
     "duration": 0.028332,
     "end_time": "2022-09-08T11:04:24.848630",
     "exception": false,
     "start_time": "2022-09-08T11:04:24.820298",
     "status": "completed"
    },
    "tags": []
   },
   "outputs": [
    {
     "data": {
      "text/plain": [
       "6.0"
      ]
     },
     "execution_count": 35,
     "metadata": {},
     "output_type": "execute_result"
    }
   ],
   "source": [
    "# Retorna el valor que representa la mitad de los datos \n",
    "np.percentile(arr,50)"
   ]
  },
  {
   "cell_type": "code",
   "execution_count": 36,
   "id": "9783207d",
   "metadata": {
    "execution": {
     "iopub.execute_input": "2022-09-08T11:04:24.882252Z",
     "iopub.status.busy": "2022-09-08T11:04:24.881557Z",
     "iopub.status.idle": "2022-09-08T11:04:24.887657Z",
     "shell.execute_reply": "2022-09-08T11:04:24.886912Z"
    },
    "papermill": {
     "duration": 0.025615,
     "end_time": "2022-09-08T11:04:24.890054",
     "exception": false,
     "start_time": "2022-09-08T11:04:24.864439",
     "status": "completed"
    },
    "tags": []
   },
   "outputs": [
    {
     "data": {
      "text/plain": [
       "array([ 4,  4,  5,  5,  6,  6, 12, 14, 17, 17])"
      ]
     },
     "execution_count": 36,
     "metadata": {},
     "output_type": "execute_result"
    }
   ],
   "source": [
    "# Sort ordena el vector de menor a mayor\n",
    "arr.sort()\n",
    "arr"
   ]
  },
  {
   "cell_type": "code",
   "execution_count": 37,
   "id": "74f85766",
   "metadata": {
    "execution": {
     "iopub.execute_input": "2022-09-08T11:04:24.925251Z",
     "iopub.status.busy": "2022-09-08T11:04:24.924685Z",
     "iopub.status.idle": "2022-09-08T11:04:24.931850Z",
     "shell.execute_reply": "2022-09-08T11:04:24.930923Z"
    },
    "papermill": {
     "duration": 0.026558,
     "end_time": "2022-09-08T11:04:24.933737",
     "exception": false,
     "start_time": "2022-09-08T11:04:24.907179",
     "status": "completed"
    },
    "tags": []
   },
   "outputs": [
    {
     "data": {
      "text/plain": [
       "6.0"
      ]
     },
     "execution_count": 37,
     "metadata": {},
     "output_type": "execute_result"
    }
   ],
   "source": [
    "# Calcula la mediana de un numero especifico de datos \n",
    "np.median(arr)"
   ]
  },
  {
   "cell_type": "code",
   "execution_count": 38,
   "id": "4f0dfc10",
   "metadata": {
    "execution": {
     "iopub.execute_input": "2022-09-08T11:04:24.968027Z",
     "iopub.status.busy": "2022-09-08T11:04:24.967252Z",
     "iopub.status.idle": "2022-09-08T11:04:24.973810Z",
     "shell.execute_reply": "2022-09-08T11:04:24.972702Z"
    },
    "papermill": {
     "duration": 0.026771,
     "end_time": "2022-09-08T11:04:24.976231",
     "exception": false,
     "start_time": "2022-09-08T11:04:24.949460",
     "status": "completed"
    },
    "tags": []
   },
   "outputs": [
    {
     "data": {
      "text/plain": [
       "5.118593556827891"
      ]
     },
     "execution_count": 38,
     "metadata": {},
     "output_type": "execute_result"
    }
   ],
   "source": [
    "# Calcula la desviacion estandar de un numero especifico de datos\n",
    "np.std(arr)"
   ]
  },
  {
   "cell_type": "code",
   "execution_count": 39,
   "id": "c0f15051",
   "metadata": {
    "execution": {
     "iopub.execute_input": "2022-09-08T11:04:25.011286Z",
     "iopub.status.busy": "2022-09-08T11:04:25.010736Z",
     "iopub.status.idle": "2022-09-08T11:04:25.018822Z",
     "shell.execute_reply": "2022-09-08T11:04:25.017368Z"
    },
    "papermill": {
     "duration": 0.028877,
     "end_time": "2022-09-08T11:04:25.020937",
     "exception": false,
     "start_time": "2022-09-08T11:04:24.992060",
     "status": "completed"
    },
    "tags": []
   },
   "outputs": [
    {
     "data": {
      "text/plain": [
       "26.2"
      ]
     },
     "execution_count": 39,
     "metadata": {},
     "output_type": "execute_result"
    }
   ],
   "source": [
    "# Calcula la varianza de un numero especifico de datos\n",
    "np.var(arr)"
   ]
  },
  {
   "cell_type": "code",
   "execution_count": 40,
   "id": "95a3d44a",
   "metadata": {
    "execution": {
     "iopub.execute_input": "2022-09-08T11:04:25.055643Z",
     "iopub.status.busy": "2022-09-08T11:04:25.054940Z",
     "iopub.status.idle": "2022-09-08T11:04:25.061195Z",
     "shell.execute_reply": "2022-09-08T11:04:25.059961Z"
    },
    "papermill": {
     "duration": 0.025924,
     "end_time": "2022-09-08T11:04:25.063288",
     "exception": false,
     "start_time": "2022-09-08T11:04:25.037364",
     "status": "completed"
    },
    "tags": []
   },
   "outputs": [
    {
     "data": {
      "text/plain": [
       "9.0"
      ]
     },
     "execution_count": 40,
     "metadata": {},
     "output_type": "execute_result"
    }
   ],
   "source": [
    "# Calcula el promedio de un numero especifico de datos \n",
    "np.mean(arr)"
   ]
  },
  {
   "cell_type": "code",
   "execution_count": 41,
   "id": "b0fd4ad1",
   "metadata": {
    "execution": {
     "iopub.execute_input": "2022-09-08T11:04:25.099589Z",
     "iopub.status.busy": "2022-09-08T11:04:25.098810Z",
     "iopub.status.idle": "2022-09-08T11:04:25.104914Z",
     "shell.execute_reply": "2022-09-08T11:04:25.103691Z"
    },
    "papermill": {
     "duration": 0.026903,
     "end_time": "2022-09-08T11:04:25.107187",
     "exception": false,
     "start_time": "2022-09-08T11:04:25.080284",
     "status": "completed"
    },
    "tags": []
   },
   "outputs": [],
   "source": [
    "a = np.array([[1,2],[3,4]])\n",
    "b = np.array([5,6])"
   ]
  },
  {
   "cell_type": "code",
   "execution_count": 42,
   "id": "83f21895",
   "metadata": {
    "execution": {
     "iopub.execute_input": "2022-09-08T11:04:25.141437Z",
     "iopub.status.busy": "2022-09-08T11:04:25.140567Z",
     "iopub.status.idle": "2022-09-08T11:04:25.147721Z",
     "shell.execute_reply": "2022-09-08T11:04:25.146612Z"
    },
    "papermill": {
     "duration": 0.026814,
     "end_time": "2022-09-08T11:04:25.149942",
     "exception": false,
     "start_time": "2022-09-08T11:04:25.123128",
     "status": "completed"
    },
    "tags": []
   },
   "outputs": [
    {
     "data": {
      "text/plain": [
       "2"
      ]
     },
     "execution_count": 42,
     "metadata": {},
     "output_type": "execute_result"
    }
   ],
   "source": [
    "a.ndim"
   ]
  },
  {
   "cell_type": "code",
   "execution_count": 43,
   "id": "615a6262",
   "metadata": {
    "execution": {
     "iopub.execute_input": "2022-09-08T11:04:25.185379Z",
     "iopub.status.busy": "2022-09-08T11:04:25.184269Z",
     "iopub.status.idle": "2022-09-08T11:04:25.191532Z",
     "shell.execute_reply": "2022-09-08T11:04:25.190680Z"
    },
    "papermill": {
     "duration": 0.027645,
     "end_time": "2022-09-08T11:04:25.193566",
     "exception": false,
     "start_time": "2022-09-08T11:04:25.165921",
     "status": "completed"
    },
    "tags": []
   },
   "outputs": [
    {
     "data": {
      "text/plain": [
       "1"
      ]
     },
     "execution_count": 43,
     "metadata": {},
     "output_type": "execute_result"
    }
   ],
   "source": [
    "b.ndim"
   ]
  },
  {
   "cell_type": "code",
   "execution_count": 44,
   "id": "542ff135",
   "metadata": {
    "execution": {
     "iopub.execute_input": "2022-09-08T11:04:25.228529Z",
     "iopub.status.busy": "2022-09-08T11:04:25.227471Z",
     "iopub.status.idle": "2022-09-08T11:04:25.234713Z",
     "shell.execute_reply": "2022-09-08T11:04:25.233925Z"
    },
    "papermill": {
     "duration": 0.027005,
     "end_time": "2022-09-08T11:04:25.236822",
     "exception": false,
     "start_time": "2022-09-08T11:04:25.209817",
     "status": "completed"
    },
    "tags": []
   },
   "outputs": [
    {
     "data": {
      "text/plain": [
       "array([[1, 2],\n",
       "       [3, 4],\n",
       "       [5, 6]])"
      ]
     },
     "execution_count": 44,
     "metadata": {},
     "output_type": "execute_result"
    }
   ],
   "source": [
    "b=np.expand_dims(b,axis=0)\n",
    "np.concatenate((a,b),axis=0)"
   ]
  },
  {
   "cell_type": "code",
   "execution_count": null,
   "id": "325206aa",
   "metadata": {
    "execution": {
     "iopub.execute_input": "2022-09-08T11:00:59.810425Z",
     "iopub.status.busy": "2022-09-08T11:00:59.810002Z",
     "iopub.status.idle": "2022-09-08T11:00:59.817002Z",
     "shell.execute_reply": "2022-09-08T11:00:59.816110Z",
     "shell.execute_reply.started": "2022-09-08T11:00:59.810392Z"
    },
    "papermill": {
     "duration": 0.016091,
     "end_time": "2022-09-08T11:04:25.269271",
     "exception": false,
     "start_time": "2022-09-08T11:04:25.253180",
     "status": "completed"
    },
    "tags": []
   },
   "outputs": [],
   "source": []
  }
 ],
 "metadata": {
  "kernelspec": {
   "display_name": "Python 3",
   "language": "python",
   "name": "python3"
  },
  "language_info": {
   "codemirror_mode": {
    "name": "ipython",
    "version": 3
   },
   "file_extension": ".py",
   "mimetype": "text/x-python",
   "name": "python",
   "nbconvert_exporter": "python",
   "pygments_lexer": "ipython3",
   "version": "3.7.12"
  },
  "papermill": {
   "default_parameters": {},
   "duration": 13.537368,
   "end_time": "2022-09-08T11:04:26.311176",
   "environment_variables": {},
   "exception": null,
   "input_path": "__notebook__.ipynb",
   "output_path": "__notebook__.ipynb",
   "parameters": {},
   "start_time": "2022-09-08T11:04:12.773808",
   "version": "2.3.4"
  }
 },
 "nbformat": 4,
 "nbformat_minor": 5
}

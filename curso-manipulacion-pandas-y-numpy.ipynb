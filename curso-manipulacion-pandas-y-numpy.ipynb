{
 "cells": [
  {
   "cell_type": "markdown",
   "id": "d0c0742c",
   "metadata": {
    "papermill": {
     "duration": 0.015119,
     "end_time": "2022-09-13T03:55:33.691544",
     "exception": false,
     "start_time": "2022-09-13T03:55:33.676425",
     "status": "completed"
    },
    "tags": []
   },
   "source": [
    "## Curso de Manipulacion y Transformacion de Datos con Pandas y Numpy"
   ]
  },
  {
   "cell_type": "markdown",
   "id": "c13eeebd",
   "metadata": {
    "papermill": {
     "duration": 0.013131,
     "end_time": "2022-09-13T03:55:33.718253",
     "exception": false,
     "start_time": "2022-09-13T03:55:33.705122",
     "status": "completed"
    },
    "tags": []
   },
   "source": [
    "## **Numpy Array**"
   ]
  },
  {
   "cell_type": "code",
   "execution_count": 1,
   "id": "1e70ab6a",
   "metadata": {
    "_cell_guid": "b1076dfc-b9ad-4769-8c92-a6c4dae69d19",
    "_uuid": "8f2839f25d086af736a60e9eeb907d3b93b6e0e5",
    "execution": {
     "iopub.execute_input": "2022-09-13T03:55:33.747888Z",
     "iopub.status.busy": "2022-09-13T03:55:33.747068Z",
     "iopub.status.idle": "2022-09-13T03:55:33.758582Z",
     "shell.execute_reply": "2022-09-13T03:55:33.757830Z"
    },
    "papermill": {
     "duration": 0.029314,
     "end_time": "2022-09-13T03:55:33.760927",
     "exception": false,
     "start_time": "2022-09-13T03:55:33.731613",
     "status": "completed"
    },
    "tags": []
   },
   "outputs": [],
   "source": [
    "import numpy as np \n",
    "import pandas as pd "
   ]
  },
  {
   "cell_type": "markdown",
   "id": "04cd4a9e",
   "metadata": {
    "papermill": {
     "duration": 0.014646,
     "end_time": "2022-09-13T03:55:33.789281",
     "exception": false,
     "start_time": "2022-09-13T03:55:33.774635",
     "status": "completed"
    },
    "tags": []
   },
   "source": [
    "### **Array**\n",
    "* La estructura central de Numpy \n",
    "* Representa datos de manera estructurada\n",
    "* Indexado\n",
    "* Acceso a uno o muchos elementos"
   ]
  },
  {
   "cell_type": "code",
   "execution_count": null,
   "id": "92e1eb05",
   "metadata": {
    "papermill": {
     "duration": 0.013407,
     "end_time": "2022-09-13T03:55:33.817594",
     "exception": false,
     "start_time": "2022-09-13T03:55:33.804187",
     "status": "completed"
    },
    "tags": []
   },
   "outputs": [],
   "source": []
  },
  {
   "cell_type": "code",
   "execution_count": 2,
   "id": "c06c777c",
   "metadata": {
    "execution": {
     "iopub.execute_input": "2022-09-13T03:55:33.847372Z",
     "iopub.status.busy": "2022-09-13T03:55:33.846836Z",
     "iopub.status.idle": "2022-09-13T03:55:33.855482Z",
     "shell.execute_reply": "2022-09-13T03:55:33.854507Z"
    },
    "papermill": {
     "duration": 0.026825,
     "end_time": "2022-09-13T03:55:33.858034",
     "exception": false,
     "start_time": "2022-09-13T03:55:33.831209",
     "status": "completed"
    },
    "tags": []
   },
   "outputs": [
    {
     "data": {
      "text/plain": [
       "[0, 1, 2, 3, 4, 5, 6, 7, 8, 9]"
      ]
     },
     "execution_count": 2,
     "metadata": {},
     "output_type": "execute_result"
    }
   ],
   "source": [
    "lista = [0,1,2,3,4,5,6,7,8,9]\n",
    "lista"
   ]
  },
  {
   "cell_type": "code",
   "execution_count": 3,
   "id": "c0d039c5",
   "metadata": {
    "execution": {
     "iopub.execute_input": "2022-09-13T03:55:33.887368Z",
     "iopub.status.busy": "2022-09-13T03:55:33.886802Z",
     "iopub.status.idle": "2022-09-13T03:55:33.892890Z",
     "shell.execute_reply": "2022-09-13T03:55:33.891931Z"
    },
    "papermill": {
     "duration": 0.023075,
     "end_time": "2022-09-13T03:55:33.894779",
     "exception": false,
     "start_time": "2022-09-13T03:55:33.871704",
     "status": "completed"
    },
    "tags": []
   },
   "outputs": [
    {
     "data": {
      "text/plain": [
       "numpy.ndarray"
      ]
     },
     "execution_count": 3,
     "metadata": {},
     "output_type": "execute_result"
    }
   ],
   "source": [
    "arr = np.array(lista)\n",
    "type(arr)"
   ]
  },
  {
   "cell_type": "code",
   "execution_count": 4,
   "id": "eee32587",
   "metadata": {
    "execution": {
     "iopub.execute_input": "2022-09-13T03:55:33.924377Z",
     "iopub.status.busy": "2022-09-13T03:55:33.923828Z",
     "iopub.status.idle": "2022-09-13T03:55:33.932652Z",
     "shell.execute_reply": "2022-09-13T03:55:33.931752Z"
    },
    "papermill": {
     "duration": 0.026193,
     "end_time": "2022-09-13T03:55:33.934716",
     "exception": false,
     "start_time": "2022-09-13T03:55:33.908523",
     "status": "completed"
    },
    "tags": []
   },
   "outputs": [
    {
     "data": {
      "text/plain": [
       "array([[1, 2, 3],\n",
       "       [4, 5, 6],\n",
       "       [7, 8, 9]])"
      ]
     },
     "execution_count": 4,
     "metadata": {},
     "output_type": "execute_result"
    }
   ],
   "source": [
    "matriz = ([1,2,3],[4,5,6],[7,8,9])\n",
    "matriz = np.array(matriz)\n",
    "matriz"
   ]
  },
  {
   "cell_type": "code",
   "execution_count": 5,
   "id": "d38bc8bc",
   "metadata": {
    "execution": {
     "iopub.execute_input": "2022-09-13T03:55:33.964203Z",
     "iopub.status.busy": "2022-09-13T03:55:33.963614Z",
     "iopub.status.idle": "2022-09-13T03:55:33.970623Z",
     "shell.execute_reply": "2022-09-13T03:55:33.969559Z"
    },
    "papermill": {
     "duration": 0.024056,
     "end_time": "2022-09-13T03:55:33.972613",
     "exception": false,
     "start_time": "2022-09-13T03:55:33.948557",
     "status": "completed"
    },
    "tags": []
   },
   "outputs": [
    {
     "data": {
      "text/plain": [
       "3"
      ]
     },
     "execution_count": 5,
     "metadata": {},
     "output_type": "execute_result"
    }
   ],
   "source": [
    "matriz [0,2]"
   ]
  },
  {
   "cell_type": "code",
   "execution_count": 6,
   "id": "70760cd6",
   "metadata": {
    "execution": {
     "iopub.execute_input": "2022-09-13T03:55:34.002278Z",
     "iopub.status.busy": "2022-09-13T03:55:34.001683Z",
     "iopub.status.idle": "2022-09-13T03:55:34.009437Z",
     "shell.execute_reply": "2022-09-13T03:55:34.008584Z"
    },
    "papermill": {
     "duration": 0.025183,
     "end_time": "2022-09-13T03:55:34.011596",
     "exception": false,
     "start_time": "2022-09-13T03:55:33.986413",
     "status": "completed"
    },
    "tags": []
   },
   "outputs": [
    {
     "data": {
      "text/plain": [
       "array([0, 1, 2, 3, 4, 5, 6, 7, 8, 9])"
      ]
     },
     "execution_count": 6,
     "metadata": {},
     "output_type": "execute_result"
    }
   ],
   "source": [
    "arr"
   ]
  },
  {
   "cell_type": "markdown",
   "id": "c98efe6b",
   "metadata": {
    "papermill": {
     "duration": 0.013949,
     "end_time": "2022-09-13T03:55:34.040166",
     "exception": false,
     "start_time": "2022-09-13T03:55:34.026217",
     "status": "completed"
    },
    "tags": []
   },
   "source": [
    "### **Slicing**"
   ]
  },
  {
   "cell_type": "code",
   "execution_count": 7,
   "id": "d06a092e",
   "metadata": {
    "execution": {
     "iopub.execute_input": "2022-09-13T03:55:34.082913Z",
     "iopub.status.busy": "2022-09-13T03:55:34.082407Z",
     "iopub.status.idle": "2022-09-13T03:55:34.089154Z",
     "shell.execute_reply": "2022-09-13T03:55:34.088184Z"
    },
    "papermill": {
     "duration": 0.036483,
     "end_time": "2022-09-13T03:55:34.091655",
     "exception": false,
     "start_time": "2022-09-13T03:55:34.055172",
     "status": "completed"
    },
    "tags": []
   },
   "outputs": [
    {
     "data": {
      "text/plain": [
       "array([False,  True,  True,  True,  True,  True,  True,  True,  True,\n",
       "        True])"
      ]
     },
     "execution_count": 7,
     "metadata": {},
     "output_type": "execute_result"
    }
   ],
   "source": [
    "arr\n",
    "arr = arr.astype(np.bool_)\n",
    "arr"
   ]
  },
  {
   "cell_type": "code",
   "execution_count": 8,
   "id": "952454b5",
   "metadata": {
    "execution": {
     "iopub.execute_input": "2022-09-13T03:55:34.123075Z",
     "iopub.status.busy": "2022-09-13T03:55:34.122242Z",
     "iopub.status.idle": "2022-09-13T03:55:34.129709Z",
     "shell.execute_reply": "2022-09-13T03:55:34.128746Z"
    },
    "papermill": {
     "duration": 0.025605,
     "end_time": "2022-09-13T03:55:34.131860",
     "exception": false,
     "start_time": "2022-09-13T03:55:34.106255",
     "status": "completed"
    },
    "tags": []
   },
   "outputs": [
    {
     "data": {
      "text/plain": [
       "array([b'0', b'1', b'2', b'3', b'4', b'5', b'6', b'7', b'8', b'9'],\n",
       "      dtype='|S21')"
      ]
     },
     "execution_count": 8,
     "metadata": {},
     "output_type": "execute_result"
    }
   ],
   "source": [
    "arr = np.array(lista)\n",
    "arr = arr.astype(np.string_)\n",
    "arr"
   ]
  },
  {
   "cell_type": "markdown",
   "id": "829a5f02",
   "metadata": {
    "papermill": {
     "duration": 0.014046,
     "end_time": "2022-09-13T03:55:34.160362",
     "exception": false,
     "start_time": "2022-09-13T03:55:34.146316",
     "status": "completed"
    },
    "tags": []
   },
   "source": [
    "### **Dimensiones**"
   ]
  },
  {
   "cell_type": "code",
   "execution_count": 9,
   "id": "94d58cf1",
   "metadata": {
    "execution": {
     "iopub.execute_input": "2022-09-13T03:55:34.191849Z",
     "iopub.status.busy": "2022-09-13T03:55:34.191107Z",
     "iopub.status.idle": "2022-09-13T03:55:34.199369Z",
     "shell.execute_reply": "2022-09-13T03:55:34.197769Z"
    },
    "papermill": {
     "duration": 0.026593,
     "end_time": "2022-09-13T03:55:34.201727",
     "exception": false,
     "start_time": "2022-09-13T03:55:34.175134",
     "status": "completed"
    },
    "tags": []
   },
   "outputs": [
    {
     "name": "stdout",
     "output_type": "stream",
     "text": [
      "42\n"
     ]
    },
    {
     "data": {
      "text/plain": [
       "0"
      ]
     },
     "execution_count": 9,
     "metadata": {},
     "output_type": "execute_result"
    }
   ],
   "source": [
    "# Definiendo un scalar\n",
    "scalar = np.array(42)\n",
    "print (scalar)\n",
    "scalar.ndim"
   ]
  },
  {
   "cell_type": "code",
   "execution_count": 10,
   "id": "997cf607",
   "metadata": {
    "execution": {
     "iopub.execute_input": "2022-09-13T03:55:34.233222Z",
     "iopub.status.busy": "2022-09-13T03:55:34.232744Z",
     "iopub.status.idle": "2022-09-13T03:55:34.240469Z",
     "shell.execute_reply": "2022-09-13T03:55:34.239610Z"
    },
    "papermill": {
     "duration": 0.026683,
     "end_time": "2022-09-13T03:55:34.243300",
     "exception": false,
     "start_time": "2022-09-13T03:55:34.216617",
     "status": "completed"
    },
    "tags": []
   },
   "outputs": [
    {
     "name": "stdout",
     "output_type": "stream",
     "text": [
      "[1 2 3]\n"
     ]
    },
    {
     "data": {
      "text/plain": [
       "1"
      ]
     },
     "execution_count": 10,
     "metadata": {},
     "output_type": "execute_result"
    }
   ],
   "source": [
    "# Definiendo un vector\n",
    "vector = np.array([1,2,3])\n",
    "print(vector)\n",
    "vector.ndim"
   ]
  },
  {
   "cell_type": "code",
   "execution_count": 11,
   "id": "ab362c5f",
   "metadata": {
    "execution": {
     "iopub.execute_input": "2022-09-13T03:55:34.275093Z",
     "iopub.status.busy": "2022-09-13T03:55:34.274148Z",
     "iopub.status.idle": "2022-09-13T03:55:34.284486Z",
     "shell.execute_reply": "2022-09-13T03:55:34.282853Z"
    },
    "papermill": {
     "duration": 0.029435,
     "end_time": "2022-09-13T03:55:34.287399",
     "exception": false,
     "start_time": "2022-09-13T03:55:34.257964",
     "status": "completed"
    },
    "tags": []
   },
   "outputs": [
    {
     "name": "stdout",
     "output_type": "stream",
     "text": [
      "[[1 2 3]\n",
      " [4 5 6]\n",
      " [7 8 9]]\n"
     ]
    },
    {
     "data": {
      "text/plain": [
       "2"
      ]
     },
     "execution_count": 11,
     "metadata": {},
     "output_type": "execute_result"
    }
   ],
   "source": [
    "# Definiendo una matriz\n",
    "matriz = np.array([[1,2,3],[4,5,6],[7,8,9]])\n",
    "print(matriz)\n",
    "matriz.ndim"
   ]
  },
  {
   "cell_type": "markdown",
   "id": "e9ba1c55",
   "metadata": {
    "papermill": {
     "duration": 0.014449,
     "end_time": "2022-09-13T03:55:34.317945",
     "exception": false,
     "start_time": "2022-09-13T03:55:34.303496",
     "status": "completed"
    },
    "tags": []
   },
   "source": [
    "### **Creando Arrays**"
   ]
  },
  {
   "cell_type": "code",
   "execution_count": 12,
   "id": "2ae48009",
   "metadata": {
    "execution": {
     "iopub.execute_input": "2022-09-13T03:55:34.351371Z",
     "iopub.status.busy": "2022-09-13T03:55:34.350532Z",
     "iopub.status.idle": "2022-09-13T03:55:34.357945Z",
     "shell.execute_reply": "2022-09-13T03:55:34.356913Z"
    },
    "papermill": {
     "duration": 0.026127,
     "end_time": "2022-09-13T03:55:34.359995",
     "exception": false,
     "start_time": "2022-09-13T03:55:34.333868",
     "status": "completed"
    },
    "tags": []
   },
   "outputs": [
    {
     "data": {
      "text/plain": [
       "array([ 0,  1,  2,  3,  4,  5,  6,  7,  8,  9, 10, 11, 12, 13, 14, 15, 16,\n",
       "       17, 18, 19])"
      ]
     },
     "execution_count": 12,
     "metadata": {},
     "output_type": "execute_result"
    }
   ],
   "source": [
    "np.arange(0,20,1)"
   ]
  },
  {
   "cell_type": "code",
   "execution_count": 13,
   "id": "b009d519",
   "metadata": {
    "execution": {
     "iopub.execute_input": "2022-09-13T03:55:34.392847Z",
     "iopub.status.busy": "2022-09-13T03:55:34.392005Z",
     "iopub.status.idle": "2022-09-13T03:55:34.399393Z",
     "shell.execute_reply": "2022-09-13T03:55:34.398388Z"
    },
    "papermill": {
     "duration": 0.026321,
     "end_time": "2022-09-13T03:55:34.401501",
     "exception": false,
     "start_time": "2022-09-13T03:55:34.375180",
     "status": "completed"
    },
    "tags": []
   },
   "outputs": [
    {
     "data": {
      "text/plain": [
       "array([0., 0., 0.])"
      ]
     },
     "execution_count": 13,
     "metadata": {},
     "output_type": "execute_result"
    }
   ],
   "source": [
    "np.zeros(3)"
   ]
  },
  {
   "cell_type": "code",
   "execution_count": 14,
   "id": "dbcfffa1",
   "metadata": {
    "execution": {
     "iopub.execute_input": "2022-09-13T03:55:34.433926Z",
     "iopub.status.busy": "2022-09-13T03:55:34.433440Z",
     "iopub.status.idle": "2022-09-13T03:55:34.441570Z",
     "shell.execute_reply": "2022-09-13T03:55:34.440042Z"
    },
    "papermill": {
     "duration": 0.027048,
     "end_time": "2022-09-13T03:55:34.443791",
     "exception": false,
     "start_time": "2022-09-13T03:55:34.416743",
     "status": "completed"
    },
    "tags": []
   },
   "outputs": [
    {
     "data": {
      "text/plain": [
       "array([[0., 0., 0., 0., 0., 0., 0., 0., 0., 0.],\n",
       "       [0., 0., 0., 0., 0., 0., 0., 0., 0., 0.],\n",
       "       [0., 0., 0., 0., 0., 0., 0., 0., 0., 0.],\n",
       "       [0., 0., 0., 0., 0., 0., 0., 0., 0., 0.],\n",
       "       [0., 0., 0., 0., 0., 0., 0., 0., 0., 0.],\n",
       "       [0., 0., 0., 0., 0., 0., 0., 0., 0., 0.],\n",
       "       [0., 0., 0., 0., 0., 0., 0., 0., 0., 0.],\n",
       "       [0., 0., 0., 0., 0., 0., 0., 0., 0., 0.],\n",
       "       [0., 0., 0., 0., 0., 0., 0., 0., 0., 0.],\n",
       "       [0., 0., 0., 0., 0., 0., 0., 0., 0., 0.]])"
      ]
     },
     "execution_count": 14,
     "metadata": {},
     "output_type": "execute_result"
    }
   ],
   "source": [
    "# Esto es util para crear array de iteracion o de imagenes con tamaños definidos\n",
    "np.zeros((10,10))\n"
   ]
  },
  {
   "cell_type": "code",
   "execution_count": 15,
   "id": "02c9dee3",
   "metadata": {
    "execution": {
     "iopub.execute_input": "2022-09-13T03:55:34.477277Z",
     "iopub.status.busy": "2022-09-13T03:55:34.476025Z",
     "iopub.status.idle": "2022-09-13T03:55:34.483640Z",
     "shell.execute_reply": "2022-09-13T03:55:34.482614Z"
    },
    "papermill": {
     "duration": 0.026844,
     "end_time": "2022-09-13T03:55:34.485918",
     "exception": false,
     "start_time": "2022-09-13T03:55:34.459074",
     "status": "completed"
    },
    "tags": []
   },
   "outputs": [
    {
     "data": {
      "text/plain": [
       "array([[1., 1., 1., 1., 1.],\n",
       "       [1., 1., 1., 1., 1.],\n",
       "       [1., 1., 1., 1., 1.],\n",
       "       [1., 1., 1., 1., 1.],\n",
       "       [1., 1., 1., 1., 1.]])"
      ]
     },
     "execution_count": 15,
     "metadata": {},
     "output_type": "execute_result"
    }
   ],
   "source": [
    "np.ones((5,5))"
   ]
  },
  {
   "cell_type": "code",
   "execution_count": 16,
   "id": "a38b5cbd",
   "metadata": {
    "execution": {
     "iopub.execute_input": "2022-09-13T03:55:34.520039Z",
     "iopub.status.busy": "2022-09-13T03:55:34.518775Z",
     "iopub.status.idle": "2022-09-13T03:55:34.525976Z",
     "shell.execute_reply": "2022-09-13T03:55:34.524954Z"
    },
    "papermill": {
     "duration": 0.026049,
     "end_time": "2022-09-13T03:55:34.527919",
     "exception": false,
     "start_time": "2022-09-13T03:55:34.501870",
     "status": "completed"
    },
    "tags": []
   },
   "outputs": [
    {
     "data": {
      "text/plain": [
       "array([ 0.        ,  0.52631579,  1.05263158,  1.57894737,  2.10526316,\n",
       "        2.63157895,  3.15789474,  3.68421053,  4.21052632,  4.73684211,\n",
       "        5.26315789,  5.78947368,  6.31578947,  6.84210526,  7.36842105,\n",
       "        7.89473684,  8.42105263,  8.94736842,  9.47368421, 10.        ])"
      ]
     },
     "execution_count": 16,
     "metadata": {},
     "output_type": "execute_result"
    }
   ],
   "source": [
    "# Linspace Hace una distribucion de los datos con un rango definido\n",
    "np.linspace(0,10,20)"
   ]
  },
  {
   "cell_type": "code",
   "execution_count": 17,
   "id": "afce30d4",
   "metadata": {
    "execution": {
     "iopub.execute_input": "2022-09-13T03:55:34.560930Z",
     "iopub.status.busy": "2022-09-13T03:55:34.560217Z",
     "iopub.status.idle": "2022-09-13T03:55:34.566612Z",
     "shell.execute_reply": "2022-09-13T03:55:34.565970Z"
    },
    "papermill": {
     "duration": 0.024818,
     "end_time": "2022-09-13T03:55:34.568581",
     "exception": false,
     "start_time": "2022-09-13T03:55:34.543763",
     "status": "completed"
    },
    "tags": []
   },
   "outputs": [
    {
     "data": {
      "text/plain": [
       "array([[1., 0., 0., 0.],\n",
       "       [0., 1., 0., 0.],\n",
       "       [0., 0., 1., 0.],\n",
       "       [0., 0., 0., 1.]])"
      ]
     },
     "execution_count": 17,
     "metadata": {},
     "output_type": "execute_result"
    }
   ],
   "source": [
    "# Return a 2-D array with ones on the diagonal and zeros elsewhere.\n",
    "np.eye(4)"
   ]
  },
  {
   "cell_type": "code",
   "execution_count": 18,
   "id": "be29236d",
   "metadata": {
    "execution": {
     "iopub.execute_input": "2022-09-13T03:55:34.602327Z",
     "iopub.status.busy": "2022-09-13T03:55:34.601637Z",
     "iopub.status.idle": "2022-09-13T03:55:34.607455Z",
     "shell.execute_reply": "2022-09-13T03:55:34.606817Z"
    },
    "papermill": {
     "duration": 0.024889,
     "end_time": "2022-09-13T03:55:34.609293",
     "exception": false,
     "start_time": "2022-09-13T03:55:34.584404",
     "status": "completed"
    },
    "tags": []
   },
   "outputs": [
    {
     "data": {
      "text/plain": [
       "0.6849087732374795"
      ]
     },
     "execution_count": 18,
     "metadata": {},
     "output_type": "execute_result"
    }
   ],
   "source": [
    "np.random.rand()"
   ]
  },
  {
   "cell_type": "code",
   "execution_count": 19,
   "id": "c80ab167",
   "metadata": {
    "execution": {
     "iopub.execute_input": "2022-09-13T03:55:34.642368Z",
     "iopub.status.busy": "2022-09-13T03:55:34.641698Z",
     "iopub.status.idle": "2022-09-13T03:55:34.647541Z",
     "shell.execute_reply": "2022-09-13T03:55:34.646891Z"
    },
    "papermill": {
     "duration": 0.025109,
     "end_time": "2022-09-13T03:55:34.649709",
     "exception": false,
     "start_time": "2022-09-13T03:55:34.624600",
     "status": "completed"
    },
    "tags": []
   },
   "outputs": [
    {
     "data": {
      "text/plain": [
       "array([0.78016366, 0.53965769, 0.32273517, 0.07328636])"
      ]
     },
     "execution_count": 19,
     "metadata": {},
     "output_type": "execute_result"
    }
   ],
   "source": [
    "np.random.rand(4)"
   ]
  },
  {
   "cell_type": "code",
   "execution_count": 20,
   "id": "8aaac76c",
   "metadata": {
    "execution": {
     "iopub.execute_input": "2022-09-13T03:55:34.685488Z",
     "iopub.status.busy": "2022-09-13T03:55:34.685004Z",
     "iopub.status.idle": "2022-09-13T03:55:34.692109Z",
     "shell.execute_reply": "2022-09-13T03:55:34.691376Z"
    },
    "papermill": {
     "duration": 0.028246,
     "end_time": "2022-09-13T03:55:34.694011",
     "exception": false,
     "start_time": "2022-09-13T03:55:34.665765",
     "status": "completed"
    },
    "tags": []
   },
   "outputs": [
    {
     "data": {
      "text/plain": [
       "array([[0.53240866, 0.1090522 , 0.25214752, 0.84195671],\n",
       "       [0.45550196, 0.11343089, 0.96200421, 0.52420515],\n",
       "       [0.27302862, 0.37018324, 0.56279606, 0.36751901],\n",
       "       [0.37870579, 0.69626238, 0.22491225, 0.65983743]])"
      ]
     },
     "execution_count": 20,
     "metadata": {},
     "output_type": "execute_result"
    }
   ],
   "source": [
    "np.random.rand(4,4)"
   ]
  },
  {
   "cell_type": "code",
   "execution_count": 21,
   "id": "3daf883f",
   "metadata": {
    "execution": {
     "iopub.execute_input": "2022-09-13T03:55:34.727879Z",
     "iopub.status.busy": "2022-09-13T03:55:34.727421Z",
     "iopub.status.idle": "2022-09-13T03:55:34.733858Z",
     "shell.execute_reply": "2022-09-13T03:55:34.732732Z"
    },
    "papermill": {
     "duration": 0.026034,
     "end_time": "2022-09-13T03:55:34.736103",
     "exception": false,
     "start_time": "2022-09-13T03:55:34.710069",
     "status": "completed"
    },
    "tags": []
   },
   "outputs": [
    {
     "data": {
      "text/plain": [
       "14"
      ]
     },
     "execution_count": 21,
     "metadata": {},
     "output_type": "execute_result"
    }
   ],
   "source": [
    "np.random.randint(1,15)"
   ]
  },
  {
   "cell_type": "code",
   "execution_count": 22,
   "id": "b5980403",
   "metadata": {
    "execution": {
     "iopub.execute_input": "2022-09-13T03:55:34.770910Z",
     "iopub.status.busy": "2022-09-13T03:55:34.769800Z",
     "iopub.status.idle": "2022-09-13T03:55:34.777828Z",
     "shell.execute_reply": "2022-09-13T03:55:34.776976Z"
    },
    "papermill": {
     "duration": 0.027574,
     "end_time": "2022-09-13T03:55:34.779861",
     "exception": false,
     "start_time": "2022-09-13T03:55:34.752287",
     "status": "completed"
    },
    "tags": []
   },
   "outputs": [
    {
     "data": {
      "text/plain": [
       "array([[82, 98, 21, 49, 21, 21, 34, 51, 51, 62],\n",
       "       [ 8, 97, 68, 84, 76, 70, 63, 57, 59, 38],\n",
       "       [74, 27, 68, 26, 99, 42, 61, 42, 14, 55],\n",
       "       [ 3, 31, 55, 62, 11, 17, 35, 40, 57, 95],\n",
       "       [56, 63, 16, 78, 63, 45, 56, 38, 10, 46],\n",
       "       [74, 33, 87,  3, 73,  9, 49, 85, 86, 86],\n",
       "       [18, 47, 24, 31, 91, 47, 15, 63, 23, 75],\n",
       "       [ 4, 51, 36, 99, 91, 28, 98, 68,  6, 27],\n",
       "       [50, 25, 85, 95, 91, 59,  6, 35, 27, 85],\n",
       "       [79, 12, 54, 77, 69, 42, 71,  4, 15,  1]])"
      ]
     },
     "execution_count": 22,
     "metadata": {},
     "output_type": "execute_result"
    }
   ],
   "source": [
    "np.random.randint(1,100,(10,10))"
   ]
  },
  {
   "cell_type": "markdown",
   "id": "c20d6f44",
   "metadata": {
    "papermill": {
     "duration": 0.015762,
     "end_time": "2022-09-13T03:55:34.811971",
     "exception": false,
     "start_time": "2022-09-13T03:55:34.796209",
     "status": "completed"
    },
    "tags": []
   },
   "source": [
    "### **Shape y Reshape**\n",
    "Nos ayuda s identificar las caracteristicas de un arreglo y saber manipularlas"
   ]
  },
  {
   "cell_type": "code",
   "execution_count": 23,
   "id": "c36e8e1a",
   "metadata": {
    "execution": {
     "iopub.execute_input": "2022-09-13T03:55:34.846574Z",
     "iopub.status.busy": "2022-09-13T03:55:34.845767Z",
     "iopub.status.idle": "2022-09-13T03:55:34.853128Z",
     "shell.execute_reply": "2022-09-13T03:55:34.852130Z"
    },
    "papermill": {
     "duration": 0.027066,
     "end_time": "2022-09-13T03:55:34.855224",
     "exception": false,
     "start_time": "2022-09-13T03:55:34.828158",
     "status": "completed"
    },
    "tags": []
   },
   "outputs": [
    {
     "data": {
      "text/plain": [
       "(3, 2)"
      ]
     },
     "execution_count": 23,
     "metadata": {},
     "output_type": "execute_result"
    }
   ],
   "source": [
    "#Devuelve las dimensiones del arreglo\n",
    "arr = np.random.randint(1,10,(3,2))\n",
    "arr.shape \n"
   ]
  },
  {
   "cell_type": "code",
   "execution_count": 24,
   "id": "c55feafa",
   "metadata": {
    "execution": {
     "iopub.execute_input": "2022-09-13T03:55:34.890032Z",
     "iopub.status.busy": "2022-09-13T03:55:34.889230Z",
     "iopub.status.idle": "2022-09-13T03:55:34.896294Z",
     "shell.execute_reply": "2022-09-13T03:55:34.895331Z"
    },
    "papermill": {
     "duration": 0.02688,
     "end_time": "2022-09-13T03:55:34.898325",
     "exception": false,
     "start_time": "2022-09-13T03:55:34.871445",
     "status": "completed"
    },
    "tags": []
   },
   "outputs": [
    {
     "data": {
      "text/plain": [
       "array([[4, 8],\n",
       "       [6, 4],\n",
       "       [8, 7]])"
      ]
     },
     "execution_count": 24,
     "metadata": {},
     "output_type": "execute_result"
    }
   ],
   "source": [
    "arr"
   ]
  },
  {
   "cell_type": "code",
   "execution_count": 25,
   "id": "d1e5e20a",
   "metadata": {
    "execution": {
     "iopub.execute_input": "2022-09-13T03:55:34.933912Z",
     "iopub.status.busy": "2022-09-13T03:55:34.933148Z",
     "iopub.status.idle": "2022-09-13T03:55:34.939921Z",
     "shell.execute_reply": "2022-09-13T03:55:34.938933Z"
    },
    "papermill": {
     "duration": 0.027121,
     "end_time": "2022-09-13T03:55:34.941919",
     "exception": false,
     "start_time": "2022-09-13T03:55:34.914798",
     "status": "completed"
    },
    "tags": []
   },
   "outputs": [
    {
     "data": {
      "text/plain": [
       "array([[4, 8, 6, 4, 8, 7]])"
      ]
     },
     "execution_count": 25,
     "metadata": {},
     "output_type": "execute_result"
    }
   ],
   "source": [
    "# Cambia la forma del arreglo \n",
    "# Reshape, Gives a new shape to an array without changing its data.\n",
    "arr.reshape(1,6)"
   ]
  },
  {
   "cell_type": "code",
   "execution_count": 26,
   "id": "1eef171f",
   "metadata": {
    "execution": {
     "iopub.execute_input": "2022-09-13T03:55:34.976038Z",
     "iopub.status.busy": "2022-09-13T03:55:34.975315Z",
     "iopub.status.idle": "2022-09-13T03:55:34.981651Z",
     "shell.execute_reply": "2022-09-13T03:55:34.980878Z"
    },
    "papermill": {
     "duration": 0.025732,
     "end_time": "2022-09-13T03:55:34.983636",
     "exception": false,
     "start_time": "2022-09-13T03:55:34.957904",
     "status": "completed"
    },
    "tags": []
   },
   "outputs": [
    {
     "data": {
      "text/plain": [
       "array([[4, 8, 6],\n",
       "       [4, 8, 7]])"
      ]
     },
     "execution_count": 26,
     "metadata": {},
     "output_type": "execute_result"
    }
   ],
   "source": [
    "arr.reshape(2,3)"
   ]
  },
  {
   "cell_type": "code",
   "execution_count": 27,
   "id": "c57e2745",
   "metadata": {
    "execution": {
     "iopub.execute_input": "2022-09-13T03:55:35.020224Z",
     "iopub.status.busy": "2022-09-13T03:55:35.019278Z",
     "iopub.status.idle": "2022-09-13T03:55:35.025975Z",
     "shell.execute_reply": "2022-09-13T03:55:35.025182Z"
    },
    "papermill": {
     "duration": 0.026835,
     "end_time": "2022-09-13T03:55:35.027942",
     "exception": false,
     "start_time": "2022-09-13T03:55:35.001107",
     "status": "completed"
    },
    "tags": []
   },
   "outputs": [
    {
     "data": {
      "text/plain": [
       "array([[4, 8, 6, 4, 8, 7]])"
      ]
     },
     "execution_count": 27,
     "metadata": {},
     "output_type": "execute_result"
    }
   ],
   "source": [
    "np.reshape(arr,(1,6))"
   ]
  },
  {
   "cell_type": "markdown",
   "id": "9ab76d5f",
   "metadata": {
    "papermill": {
     "duration": 0.015986,
     "end_time": "2022-09-13T03:55:35.060202",
     "exception": false,
     "start_time": "2022-09-13T03:55:35.044216",
     "status": "completed"
    },
    "tags": []
   },
   "source": [
    "### **Funciones principales de Numpy**"
   ]
  },
  {
   "cell_type": "code",
   "execution_count": 28,
   "id": "521e6ec4",
   "metadata": {
    "execution": {
     "iopub.execute_input": "2022-09-13T03:55:35.095064Z",
     "iopub.status.busy": "2022-09-13T03:55:35.094405Z",
     "iopub.status.idle": "2022-09-13T03:55:35.101409Z",
     "shell.execute_reply": "2022-09-13T03:55:35.100742Z"
    },
    "papermill": {
     "duration": 0.026783,
     "end_time": "2022-09-13T03:55:35.103488",
     "exception": false,
     "start_time": "2022-09-13T03:55:35.076705",
     "status": "completed"
    },
    "tags": []
   },
   "outputs": [
    {
     "data": {
      "text/plain": [
       "array([18, 10, 10,  2, 16, 13, 14, 17,  1,  8])"
      ]
     },
     "execution_count": 28,
     "metadata": {},
     "output_type": "execute_result"
    }
   ],
   "source": [
    "arr = np.random.randint(1,20,10)\n",
    "arr"
   ]
  },
  {
   "cell_type": "code",
   "execution_count": 29,
   "id": "1978ae54",
   "metadata": {
    "execution": {
     "iopub.execute_input": "2022-09-13T03:55:35.138832Z",
     "iopub.status.busy": "2022-09-13T03:55:35.138127Z",
     "iopub.status.idle": "2022-09-13T03:55:35.144434Z",
     "shell.execute_reply": "2022-09-13T03:55:35.143723Z"
    },
    "papermill": {
     "duration": 0.025922,
     "end_time": "2022-09-13T03:55:35.146391",
     "exception": false,
     "start_time": "2022-09-13T03:55:35.120469",
     "status": "completed"
    },
    "tags": []
   },
   "outputs": [
    {
     "data": {
      "text/plain": [
       "array([[18, 10, 10,  2, 16],\n",
       "       [13, 14, 17,  1,  8]])"
      ]
     },
     "execution_count": 29,
     "metadata": {},
     "output_type": "execute_result"
    }
   ],
   "source": [
    "matriz = arr.reshape(2,5)\n",
    "matriz"
   ]
  },
  {
   "cell_type": "code",
   "execution_count": 30,
   "id": "655c2ed2",
   "metadata": {
    "execution": {
     "iopub.execute_input": "2022-09-13T03:55:35.181866Z",
     "iopub.status.busy": "2022-09-13T03:55:35.181148Z",
     "iopub.status.idle": "2022-09-13T03:55:35.187383Z",
     "shell.execute_reply": "2022-09-13T03:55:35.186659Z"
    },
    "papermill": {
     "duration": 0.026119,
     "end_time": "2022-09-13T03:55:35.189310",
     "exception": false,
     "start_time": "2022-09-13T03:55:35.163191",
     "status": "completed"
    },
    "tags": []
   },
   "outputs": [
    {
     "data": {
      "text/plain": [
       "18"
      ]
     },
     "execution_count": 30,
     "metadata": {},
     "output_type": "execute_result"
    }
   ],
   "source": [
    "# Devuelve el maximo valor en la matriz\n",
    "matriz.max()"
   ]
  },
  {
   "cell_type": "code",
   "execution_count": 31,
   "id": "7ae5ac2a",
   "metadata": {
    "execution": {
     "iopub.execute_input": "2022-09-13T03:55:35.224502Z",
     "iopub.status.busy": "2022-09-13T03:55:35.223811Z",
     "iopub.status.idle": "2022-09-13T03:55:35.230139Z",
     "shell.execute_reply": "2022-09-13T03:55:35.229218Z"
    },
    "papermill": {
     "duration": 0.026238,
     "end_time": "2022-09-13T03:55:35.232099",
     "exception": false,
     "start_time": "2022-09-13T03:55:35.205861",
     "status": "completed"
    },
    "tags": []
   },
   "outputs": [
    {
     "data": {
      "text/plain": [
       "array([18, 17])"
      ]
     },
     "execution_count": 31,
     "metadata": {},
     "output_type": "execute_result"
    }
   ],
   "source": [
    "# Devuelve el valor maximo en una fila\n",
    "matriz.max(1)"
   ]
  },
  {
   "cell_type": "code",
   "execution_count": 32,
   "id": "c541f420",
   "metadata": {
    "execution": {
     "iopub.execute_input": "2022-09-13T03:55:35.267430Z",
     "iopub.status.busy": "2022-09-13T03:55:35.266750Z",
     "iopub.status.idle": "2022-09-13T03:55:35.272792Z",
     "shell.execute_reply": "2022-09-13T03:55:35.272013Z"
    },
    "papermill": {
     "duration": 0.02623,
     "end_time": "2022-09-13T03:55:35.274994",
     "exception": false,
     "start_time": "2022-09-13T03:55:35.248764",
     "status": "completed"
    },
    "tags": []
   },
   "outputs": [
    {
     "data": {
      "text/plain": [
       "0"
      ]
     },
     "execution_count": 32,
     "metadata": {},
     "output_type": "execute_result"
    }
   ],
   "source": [
    "# Devuelve el indice del el valor maximo que se encuentra ubicado en el vector del array \n",
    "arr.argmax()"
   ]
  },
  {
   "cell_type": "code",
   "execution_count": 33,
   "id": "9e173d50",
   "metadata": {
    "execution": {
     "iopub.execute_input": "2022-09-13T03:55:35.311814Z",
     "iopub.status.busy": "2022-09-13T03:55:35.311101Z",
     "iopub.status.idle": "2022-09-13T03:55:35.317034Z",
     "shell.execute_reply": "2022-09-13T03:55:35.316291Z"
    },
    "papermill": {
     "duration": 0.026777,
     "end_time": "2022-09-13T03:55:35.318939",
     "exception": false,
     "start_time": "2022-09-13T03:55:35.292162",
     "status": "completed"
    },
    "tags": []
   },
   "outputs": [
    {
     "data": {
      "text/plain": [
       "1"
      ]
     },
     "execution_count": 33,
     "metadata": {},
     "output_type": "execute_result"
    }
   ],
   "source": [
    "# Devuelve el valor minimo\n",
    "arr.min()"
   ]
  },
  {
   "cell_type": "code",
   "execution_count": 34,
   "id": "3ec096d7",
   "metadata": {
    "execution": {
     "iopub.execute_input": "2022-09-13T03:55:35.355341Z",
     "iopub.status.busy": "2022-09-13T03:55:35.354601Z",
     "iopub.status.idle": "2022-09-13T03:55:35.360833Z",
     "shell.execute_reply": "2022-09-13T03:55:35.360010Z"
    },
    "papermill": {
     "duration": 0.026702,
     "end_time": "2022-09-13T03:55:35.362843",
     "exception": false,
     "start_time": "2022-09-13T03:55:35.336141",
     "status": "completed"
    },
    "tags": []
   },
   "outputs": [
    {
     "data": {
      "text/plain": [
       "17"
      ]
     },
     "execution_count": 34,
     "metadata": {},
     "output_type": "execute_result"
    }
   ],
   "source": [
    "# Pic to Pic, devuelve el valor entre los picos minimo y maximo del array \n",
    "arr.ptp()"
   ]
  },
  {
   "cell_type": "code",
   "execution_count": 35,
   "id": "3fb79c1c",
   "metadata": {
    "execution": {
     "iopub.execute_input": "2022-09-13T03:55:35.398881Z",
     "iopub.status.busy": "2022-09-13T03:55:35.398186Z",
     "iopub.status.idle": "2022-09-13T03:55:35.407714Z",
     "shell.execute_reply": "2022-09-13T03:55:35.406605Z"
    },
    "papermill": {
     "duration": 0.030078,
     "end_time": "2022-09-13T03:55:35.409897",
     "exception": false,
     "start_time": "2022-09-13T03:55:35.379819",
     "status": "completed"
    },
    "tags": []
   },
   "outputs": [
    {
     "data": {
      "text/plain": [
       "11.5"
      ]
     },
     "execution_count": 35,
     "metadata": {},
     "output_type": "execute_result"
    }
   ],
   "source": [
    "# Retorna el valor que representa la mitad de los datos \n",
    "np.percentile(arr,50)"
   ]
  },
  {
   "cell_type": "code",
   "execution_count": 36,
   "id": "f3cc2dac",
   "metadata": {
    "execution": {
     "iopub.execute_input": "2022-09-13T03:55:35.446268Z",
     "iopub.status.busy": "2022-09-13T03:55:35.445804Z",
     "iopub.status.idle": "2022-09-13T03:55:35.453034Z",
     "shell.execute_reply": "2022-09-13T03:55:35.451774Z"
    },
    "papermill": {
     "duration": 0.028048,
     "end_time": "2022-09-13T03:55:35.455165",
     "exception": false,
     "start_time": "2022-09-13T03:55:35.427117",
     "status": "completed"
    },
    "tags": []
   },
   "outputs": [
    {
     "data": {
      "text/plain": [
       "array([ 1,  2,  8, 10, 10, 13, 14, 16, 17, 18])"
      ]
     },
     "execution_count": 36,
     "metadata": {},
     "output_type": "execute_result"
    }
   ],
   "source": [
    "# Sort ordena el vector de menor a mayor\n",
    "arr.sort()\n",
    "arr"
   ]
  },
  {
   "cell_type": "code",
   "execution_count": 37,
   "id": "8f0a0ba1",
   "metadata": {
    "execution": {
     "iopub.execute_input": "2022-09-13T03:55:35.492143Z",
     "iopub.status.busy": "2022-09-13T03:55:35.491757Z",
     "iopub.status.idle": "2022-09-13T03:55:35.498718Z",
     "shell.execute_reply": "2022-09-13T03:55:35.497662Z"
    },
    "papermill": {
     "duration": 0.028172,
     "end_time": "2022-09-13T03:55:35.501038",
     "exception": false,
     "start_time": "2022-09-13T03:55:35.472866",
     "status": "completed"
    },
    "tags": []
   },
   "outputs": [
    {
     "data": {
      "text/plain": [
       "11.5"
      ]
     },
     "execution_count": 37,
     "metadata": {},
     "output_type": "execute_result"
    }
   ],
   "source": [
    "# Calcula la mediana de un numero especifico de datos \n",
    "np.median(arr)"
   ]
  },
  {
   "cell_type": "code",
   "execution_count": 38,
   "id": "d413ed14",
   "metadata": {
    "execution": {
     "iopub.execute_input": "2022-09-13T03:55:35.537507Z",
     "iopub.status.busy": "2022-09-13T03:55:35.537129Z",
     "iopub.status.idle": "2022-09-13T03:55:35.544117Z",
     "shell.execute_reply": "2022-09-13T03:55:35.542960Z"
    },
    "papermill": {
     "duration": 0.027873,
     "end_time": "2022-09-13T03:55:35.546385",
     "exception": false,
     "start_time": "2022-09-13T03:55:35.518512",
     "status": "completed"
    },
    "tags": []
   },
   "outputs": [
    {
     "data": {
      "text/plain": [
       "5.61159513863928"
      ]
     },
     "execution_count": 38,
     "metadata": {},
     "output_type": "execute_result"
    }
   ],
   "source": [
    "# Calcula la desviacion estandar de un numero especifico de datos\n",
    "np.std(arr)"
   ]
  },
  {
   "cell_type": "code",
   "execution_count": 39,
   "id": "0734ae27",
   "metadata": {
    "execution": {
     "iopub.execute_input": "2022-09-13T03:55:35.584600Z",
     "iopub.status.busy": "2022-09-13T03:55:35.584224Z",
     "iopub.status.idle": "2022-09-13T03:55:35.590262Z",
     "shell.execute_reply": "2022-09-13T03:55:35.589573Z"
    },
    "papermill": {
     "duration": 0.0274,
     "end_time": "2022-09-13T03:55:35.592141",
     "exception": false,
     "start_time": "2022-09-13T03:55:35.564741",
     "status": "completed"
    },
    "tags": []
   },
   "outputs": [
    {
     "data": {
      "text/plain": [
       "31.49"
      ]
     },
     "execution_count": 39,
     "metadata": {},
     "output_type": "execute_result"
    }
   ],
   "source": [
    "# Calcula la varianza de un numero especifico de datos\n",
    "np.var(arr)"
   ]
  },
  {
   "cell_type": "code",
   "execution_count": 40,
   "id": "579cdd17",
   "metadata": {
    "execution": {
     "iopub.execute_input": "2022-09-13T03:55:35.629091Z",
     "iopub.status.busy": "2022-09-13T03:55:35.628617Z",
     "iopub.status.idle": "2022-09-13T03:55:35.635425Z",
     "shell.execute_reply": "2022-09-13T03:55:35.634707Z"
    },
    "papermill": {
     "duration": 0.027394,
     "end_time": "2022-09-13T03:55:35.637200",
     "exception": false,
     "start_time": "2022-09-13T03:55:35.609806",
     "status": "completed"
    },
    "tags": []
   },
   "outputs": [
    {
     "data": {
      "text/plain": [
       "10.9"
      ]
     },
     "execution_count": 40,
     "metadata": {},
     "output_type": "execute_result"
    }
   ],
   "source": [
    "# Calcula el promedio de un numero especifico de datos \n",
    "np.mean(arr)"
   ]
  },
  {
   "cell_type": "code",
   "execution_count": 41,
   "id": "5dbb75c9",
   "metadata": {
    "execution": {
     "iopub.execute_input": "2022-09-13T03:55:35.675314Z",
     "iopub.status.busy": "2022-09-13T03:55:35.674757Z",
     "iopub.status.idle": "2022-09-13T03:55:35.679784Z",
     "shell.execute_reply": "2022-09-13T03:55:35.678929Z"
    },
    "papermill": {
     "duration": 0.026381,
     "end_time": "2022-09-13T03:55:35.681766",
     "exception": false,
     "start_time": "2022-09-13T03:55:35.655385",
     "status": "completed"
    },
    "tags": []
   },
   "outputs": [],
   "source": [
    "a = np.array([[1,2],[3,4]])\n",
    "b = np.array([5,6])"
   ]
  },
  {
   "cell_type": "code",
   "execution_count": 42,
   "id": "8ce816ac",
   "metadata": {
    "execution": {
     "iopub.execute_input": "2022-09-13T03:55:35.719763Z",
     "iopub.status.busy": "2022-09-13T03:55:35.719309Z",
     "iopub.status.idle": "2022-09-13T03:55:35.724655Z",
     "shell.execute_reply": "2022-09-13T03:55:35.723998Z"
    },
    "papermill": {
     "duration": 0.026907,
     "end_time": "2022-09-13T03:55:35.726860",
     "exception": false,
     "start_time": "2022-09-13T03:55:35.699953",
     "status": "completed"
    },
    "tags": []
   },
   "outputs": [
    {
     "data": {
      "text/plain": [
       "2"
      ]
     },
     "execution_count": 42,
     "metadata": {},
     "output_type": "execute_result"
    }
   ],
   "source": [
    "a.ndim"
   ]
  },
  {
   "cell_type": "code",
   "execution_count": 43,
   "id": "eaa442d0",
   "metadata": {
    "execution": {
     "iopub.execute_input": "2022-09-13T03:55:35.765612Z",
     "iopub.status.busy": "2022-09-13T03:55:35.764611Z",
     "iopub.status.idle": "2022-09-13T03:55:35.771504Z",
     "shell.execute_reply": "2022-09-13T03:55:35.770603Z"
    },
    "papermill": {
     "duration": 0.028461,
     "end_time": "2022-09-13T03:55:35.773702",
     "exception": false,
     "start_time": "2022-09-13T03:55:35.745241",
     "status": "completed"
    },
    "tags": []
   },
   "outputs": [
    {
     "data": {
      "text/plain": [
       "1"
      ]
     },
     "execution_count": 43,
     "metadata": {},
     "output_type": "execute_result"
    }
   ],
   "source": [
    "b.ndim"
   ]
  },
  {
   "cell_type": "code",
   "execution_count": 44,
   "id": "c0f4b15e",
   "metadata": {
    "execution": {
     "iopub.execute_input": "2022-09-13T03:55:35.813151Z",
     "iopub.status.busy": "2022-09-13T03:55:35.812470Z",
     "iopub.status.idle": "2022-09-13T03:55:35.820462Z",
     "shell.execute_reply": "2022-09-13T03:55:35.819253Z"
    },
    "papermill": {
     "duration": 0.030044,
     "end_time": "2022-09-13T03:55:35.822779",
     "exception": false,
     "start_time": "2022-09-13T03:55:35.792735",
     "status": "completed"
    },
    "tags": []
   },
   "outputs": [
    {
     "data": {
      "text/plain": [
       "array([[1, 2],\n",
       "       [3, 4],\n",
       "       [5, 6]])"
      ]
     },
     "execution_count": 44,
     "metadata": {},
     "output_type": "execute_result"
    }
   ],
   "source": [
    "b=np.expand_dims(b,axis=0)\n",
    "np.concatenate((a,b),axis=0)"
   ]
  },
  {
   "cell_type": "code",
   "execution_count": null,
   "id": "f3e301f6",
   "metadata": {
    "papermill": {
     "duration": 0.018467,
     "end_time": "2022-09-13T03:55:35.860083",
     "exception": false,
     "start_time": "2022-09-13T03:55:35.841616",
     "status": "completed"
    },
    "tags": []
   },
   "outputs": [],
   "source": []
  },
  {
   "cell_type": "markdown",
   "id": "380b8806",
   "metadata": {
    "papermill": {
     "duration": 0.018737,
     "end_time": "2022-09-13T03:55:35.897654",
     "exception": false,
     "start_time": "2022-09-13T03:55:35.878917",
     "status": "completed"
    },
    "tags": []
   },
   "source": [
    "###  Condiciones"
   ]
  },
  {
   "cell_type": "code",
   "execution_count": 45,
   "id": "98b75839",
   "metadata": {
    "execution": {
     "iopub.execute_input": "2022-09-13T03:55:35.936773Z",
     "iopub.status.busy": "2022-09-13T03:55:35.936353Z",
     "iopub.status.idle": "2022-09-13T03:55:35.942710Z",
     "shell.execute_reply": "2022-09-13T03:55:35.941946Z"
    },
    "papermill": {
     "duration": 0.028159,
     "end_time": "2022-09-13T03:55:35.944788",
     "exception": false,
     "start_time": "2022-09-13T03:55:35.916629",
     "status": "completed"
    },
    "tags": []
   },
   "outputs": [
    {
     "data": {
      "text/plain": [
       "array([ 1,  2,  3,  4,  5,  6,  7,  8,  9, 10], dtype=int8)"
      ]
     },
     "execution_count": 45,
     "metadata": {},
     "output_type": "execute_result"
    }
   ],
   "source": [
    "arr = np.linspace(1,10,10, dtype=\"int8\")\n",
    "arr"
   ]
  },
  {
   "cell_type": "code",
   "execution_count": 46,
   "id": "1c4ee348",
   "metadata": {
    "execution": {
     "iopub.execute_input": "2022-09-13T03:55:35.984044Z",
     "iopub.status.busy": "2022-09-13T03:55:35.983565Z",
     "iopub.status.idle": "2022-09-13T03:55:35.988619Z",
     "shell.execute_reply": "2022-09-13T03:55:35.987842Z"
    },
    "papermill": {
     "duration": 0.026852,
     "end_time": "2022-09-13T03:55:35.990655",
     "exception": false,
     "start_time": "2022-09-13T03:55:35.963803",
     "status": "completed"
    },
    "tags": []
   },
   "outputs": [],
   "source": [
    "indices_cond = arr > 5\n"
   ]
  },
  {
   "cell_type": "code",
   "execution_count": 47,
   "id": "594ddb8f",
   "metadata": {
    "execution": {
     "iopub.execute_input": "2022-09-13T03:55:36.031876Z",
     "iopub.status.busy": "2022-09-13T03:55:36.030599Z",
     "iopub.status.idle": "2022-09-13T03:55:36.037083Z",
     "shell.execute_reply": "2022-09-13T03:55:36.036357Z"
    },
    "papermill": {
     "duration": 0.02855,
     "end_time": "2022-09-13T03:55:36.038946",
     "exception": false,
     "start_time": "2022-09-13T03:55:36.010396",
     "status": "completed"
    },
    "tags": []
   },
   "outputs": [
    {
     "data": {
      "text/plain": [
       "array([False, False, False, False, False,  True,  True,  True,  True,\n",
       "        True])"
      ]
     },
     "execution_count": 47,
     "metadata": {},
     "output_type": "execute_result"
    }
   ],
   "source": [
    "indices_cond "
   ]
  },
  {
   "cell_type": "code",
   "execution_count": 48,
   "id": "832022b5",
   "metadata": {
    "execution": {
     "iopub.execute_input": "2022-09-13T03:55:36.077568Z",
     "iopub.status.busy": "2022-09-13T03:55:36.077121Z",
     "iopub.status.idle": "2022-09-13T03:55:36.084331Z",
     "shell.execute_reply": "2022-09-13T03:55:36.083346Z"
    },
    "papermill": {
     "duration": 0.029354,
     "end_time": "2022-09-13T03:55:36.086532",
     "exception": false,
     "start_time": "2022-09-13T03:55:36.057178",
     "status": "completed"
    },
    "tags": []
   },
   "outputs": [
    {
     "data": {
      "text/plain": [
       "array([ 6,  7,  8,  9, 10], dtype=int8)"
      ]
     },
     "execution_count": 48,
     "metadata": {},
     "output_type": "execute_result"
    }
   ],
   "source": [
    "arr[indices_cond]"
   ]
  },
  {
   "cell_type": "markdown",
   "id": "35b3fe7c",
   "metadata": {
    "papermill": {
     "duration": 0.018485,
     "end_time": "2022-09-13T03:55:36.124330",
     "exception": false,
     "start_time": "2022-09-13T03:55:36.105845",
     "status": "completed"
    },
    "tags": []
   },
   "source": [
    "### Operaciones "
   ]
  },
  {
   "cell_type": "code",
   "execution_count": 49,
   "id": "fa13a04f",
   "metadata": {
    "execution": {
     "iopub.execute_input": "2022-09-13T03:55:36.163582Z",
     "iopub.status.busy": "2022-09-13T03:55:36.163166Z",
     "iopub.status.idle": "2022-09-13T03:55:36.168599Z",
     "shell.execute_reply": "2022-09-13T03:55:36.167967Z"
    },
    "papermill": {
     "duration": 0.02733,
     "end_time": "2022-09-13T03:55:36.170443",
     "exception": false,
     "start_time": "2022-09-13T03:55:36.143113",
     "status": "completed"
    },
    "tags": []
   },
   "outputs": [
    {
     "data": {
      "text/plain": [
       "[1, 2]"
      ]
     },
     "execution_count": 49,
     "metadata": {},
     "output_type": "execute_result"
    }
   ],
   "source": [
    "lista = [1,2]\n",
    "lista"
   ]
  },
  {
   "cell_type": "markdown",
   "id": "e5ac6a65",
   "metadata": {
    "papermill": {
     "duration": 0.018661,
     "end_time": "2022-09-13T03:55:36.208117",
     "exception": false,
     "start_time": "2022-09-13T03:55:36.189456",
     "status": "completed"
    },
    "tags": []
   },
   "source": [
    "## **Pandas**"
   ]
  },
  {
   "cell_type": "markdown",
   "id": "8af406f5",
   "metadata": {
    "papermill": {
     "duration": 0.018646,
     "end_time": "2022-09-13T03:55:36.246044",
     "exception": false,
     "start_time": "2022-09-13T03:55:36.227398",
     "status": "completed"
    },
    "tags": []
   },
   "source": [
    "* Pandas series \n",
    "* Pandas Dataframe\n",
    "    * Estructura principal \n",
    "    * Arreglo de dos dimenciones \n",
    "    * Busqueda por indice (Columnas o Filas ) \n",
    "    * Slicing \n",
    "    * Operaciones aritmaticas \n",
    "    * Distintos tipos de datos\n",
    "    \n"
   ]
  },
  {
   "cell_type": "code",
   "execution_count": 50,
   "id": "6d34d6f2",
   "metadata": {
    "execution": {
     "iopub.execute_input": "2022-09-13T03:55:36.285435Z",
     "iopub.status.busy": "2022-09-13T03:55:36.285019Z",
     "iopub.status.idle": "2022-09-13T03:55:36.296910Z",
     "shell.execute_reply": "2022-09-13T03:55:36.295910Z"
    },
    "papermill": {
     "duration": 0.034047,
     "end_time": "2022-09-13T03:55:36.298859",
     "exception": false,
     "start_time": "2022-09-13T03:55:36.264812",
     "status": "completed"
    },
    "tags": []
   },
   "outputs": [
    {
     "data": {
      "text/plain": [
       "1      Navas\n",
       "7     Mbappe\n",
       "10    Neymar\n",
       "30     Messi\n",
       "dtype: object"
      ]
     },
     "execution_count": 50,
     "metadata": {},
     "output_type": "execute_result"
    }
   ],
   "source": [
    "import pandas as pd \n",
    "psg_players = pd.Series([\"Navas\",\"Mbappe\", \"Neymar\", \"Messi\"],\n",
    "         index=[1,7,10,30]\n",
    "         )\n",
    "psg_players"
   ]
  },
  {
   "cell_type": "code",
   "execution_count": 51,
   "id": "91cbfd74",
   "metadata": {
    "execution": {
     "iopub.execute_input": "2022-09-13T03:55:36.339468Z",
     "iopub.status.busy": "2022-09-13T03:55:36.338462Z",
     "iopub.status.idle": "2022-09-13T03:55:36.347660Z",
     "shell.execute_reply": "2022-09-13T03:55:36.346758Z"
    },
    "papermill": {
     "duration": 0.031357,
     "end_time": "2022-09-13T03:55:36.349648",
     "exception": false,
     "start_time": "2022-09-13T03:55:36.318291",
     "status": "completed"
    },
    "tags": []
   },
   "outputs": [
    {
     "data": {
      "text/plain": [
       "1      Navas\n",
       "7     Mbappe\n",
       "10    Neymar\n",
       "30     Messi\n",
       "dtype: object"
      ]
     },
     "execution_count": 51,
     "metadata": {},
     "output_type": "execute_result"
    }
   ],
   "source": [
    "dict = {1:\"Navas\", 7:\"Mbappe\", 10:\"Neymar\", 30:\"Messi\"}\n",
    "pd.Series(dict)"
   ]
  }
 ],
 "metadata": {
  "kernelspec": {
   "display_name": "Python 3",
   "language": "python",
   "name": "python3"
  },
  "language_info": {
   "codemirror_mode": {
    "name": "ipython",
    "version": 3
   },
   "file_extension": ".py",
   "mimetype": "text/x-python",
   "name": "python",
   "nbconvert_exporter": "python",
   "pygments_lexer": "ipython3",
   "version": "3.7.12"
  },
  "papermill": {
   "default_parameters": {},
   "duration": 13.574835,
   "end_time": "2022-09-13T03:55:37.091420",
   "environment_variables": {},
   "exception": null,
   "input_path": "__notebook__.ipynb",
   "output_path": "__notebook__.ipynb",
   "parameters": {},
   "start_time": "2022-09-13T03:55:23.516585",
   "version": "2.3.4"
  }
 },
 "nbformat": 4,
 "nbformat_minor": 5
}

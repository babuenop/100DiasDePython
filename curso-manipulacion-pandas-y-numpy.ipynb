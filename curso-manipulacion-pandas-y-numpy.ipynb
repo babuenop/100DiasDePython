{
 "cells": [
  {
   "cell_type": "markdown",
   "id": "fe81c0e8",
   "metadata": {
    "papermill": {
     "duration": 0.01449,
     "end_time": "2022-09-12T02:24:42.003007",
     "exception": false,
     "start_time": "2022-09-12T02:24:41.988517",
     "status": "completed"
    },
    "tags": []
   },
   "source": [
    "## Curso de Manipulacion y Transformacion de Datos con Pandas y Numpy"
   ]
  },
  {
   "cell_type": "markdown",
   "id": "72432a2a",
   "metadata": {
    "papermill": {
     "duration": 0.012367,
     "end_time": "2022-09-12T02:24:42.028999",
     "exception": false,
     "start_time": "2022-09-12T02:24:42.016632",
     "status": "completed"
    },
    "tags": []
   },
   "source": [
    "## **Numpy Array**"
   ]
  },
  {
   "cell_type": "code",
   "execution_count": 1,
   "id": "956386d1",
   "metadata": {
    "_cell_guid": "b1076dfc-b9ad-4769-8c92-a6c4dae69d19",
    "_uuid": "8f2839f25d086af736a60e9eeb907d3b93b6e0e5",
    "execution": {
     "iopub.execute_input": "2022-09-12T02:24:42.057331Z",
     "iopub.status.busy": "2022-09-12T02:24:42.056169Z",
     "iopub.status.idle": "2022-09-12T02:24:42.068189Z",
     "shell.execute_reply": "2022-09-12T02:24:42.067320Z"
    },
    "papermill": {
     "duration": 0.02899,
     "end_time": "2022-09-12T02:24:42.070570",
     "exception": false,
     "start_time": "2022-09-12T02:24:42.041580",
     "status": "completed"
    },
    "tags": []
   },
   "outputs": [],
   "source": [
    "import numpy as np \n",
    "import pandas as pd "
   ]
  },
  {
   "cell_type": "markdown",
   "id": "e92ce8fc",
   "metadata": {
    "papermill": {
     "duration": 0.013359,
     "end_time": "2022-09-12T02:24:42.097198",
     "exception": false,
     "start_time": "2022-09-12T02:24:42.083839",
     "status": "completed"
    },
    "tags": []
   },
   "source": [
    "### **Array**\n",
    "* La estructura central de Numpy \n",
    "* Representa datos de manera estructurada\n",
    "* Indexado\n",
    "* Acceso a uno o muchos elementos"
   ]
  },
  {
   "cell_type": "code",
   "execution_count": null,
   "id": "9a2922f8",
   "metadata": {
    "papermill": {
     "duration": 0.013384,
     "end_time": "2022-09-12T02:24:42.123691",
     "exception": false,
     "start_time": "2022-09-12T02:24:42.110307",
     "status": "completed"
    },
    "tags": []
   },
   "outputs": [],
   "source": []
  },
  {
   "cell_type": "code",
   "execution_count": 2,
   "id": "c98b81ed",
   "metadata": {
    "execution": {
     "iopub.execute_input": "2022-09-12T02:24:42.150924Z",
     "iopub.status.busy": "2022-09-12T02:24:42.150509Z",
     "iopub.status.idle": "2022-09-12T02:24:42.158903Z",
     "shell.execute_reply": "2022-09-12T02:24:42.158000Z"
    },
    "papermill": {
     "duration": 0.025595,
     "end_time": "2022-09-12T02:24:42.162132",
     "exception": false,
     "start_time": "2022-09-12T02:24:42.136537",
     "status": "completed"
    },
    "tags": []
   },
   "outputs": [
    {
     "data": {
      "text/plain": [
       "[0, 1, 2, 3, 4, 5, 6, 7, 8, 9]"
      ]
     },
     "execution_count": 2,
     "metadata": {},
     "output_type": "execute_result"
    }
   ],
   "source": [
    "lista = [0,1,2,3,4,5,6,7,8,9]\n",
    "lista"
   ]
  },
  {
   "cell_type": "code",
   "execution_count": 3,
   "id": "af300d20",
   "metadata": {
    "execution": {
     "iopub.execute_input": "2022-09-12T02:24:42.189543Z",
     "iopub.status.busy": "2022-09-12T02:24:42.188931Z",
     "iopub.status.idle": "2022-09-12T02:24:42.195118Z",
     "shell.execute_reply": "2022-09-12T02:24:42.194219Z"
    },
    "papermill": {
     "duration": 0.022021,
     "end_time": "2022-09-12T02:24:42.197009",
     "exception": false,
     "start_time": "2022-09-12T02:24:42.174988",
     "status": "completed"
    },
    "tags": []
   },
   "outputs": [
    {
     "data": {
      "text/plain": [
       "numpy.ndarray"
      ]
     },
     "execution_count": 3,
     "metadata": {},
     "output_type": "execute_result"
    }
   ],
   "source": [
    "arr = np.array(lista)\n",
    "type(arr)"
   ]
  },
  {
   "cell_type": "code",
   "execution_count": 4,
   "id": "fae361fc",
   "metadata": {
    "execution": {
     "iopub.execute_input": "2022-09-12T02:24:42.224410Z",
     "iopub.status.busy": "2022-09-12T02:24:42.223751Z",
     "iopub.status.idle": "2022-09-12T02:24:42.232797Z",
     "shell.execute_reply": "2022-09-12T02:24:42.232133Z"
    },
    "papermill": {
     "duration": 0.025056,
     "end_time": "2022-09-12T02:24:42.234755",
     "exception": false,
     "start_time": "2022-09-12T02:24:42.209699",
     "status": "completed"
    },
    "tags": []
   },
   "outputs": [
    {
     "data": {
      "text/plain": [
       "array([[1, 2, 3],\n",
       "       [4, 5, 6],\n",
       "       [7, 8, 9]])"
      ]
     },
     "execution_count": 4,
     "metadata": {},
     "output_type": "execute_result"
    }
   ],
   "source": [
    "matriz = ([1,2,3],[4,5,6],[7,8,9])\n",
    "matriz = np.array(matriz)\n",
    "matriz"
   ]
  },
  {
   "cell_type": "code",
   "execution_count": 5,
   "id": "472262a3",
   "metadata": {
    "execution": {
     "iopub.execute_input": "2022-09-12T02:24:42.262439Z",
     "iopub.status.busy": "2022-09-12T02:24:42.261712Z",
     "iopub.status.idle": "2022-09-12T02:24:42.268190Z",
     "shell.execute_reply": "2022-09-12T02:24:42.267447Z"
    },
    "papermill": {
     "duration": 0.022656,
     "end_time": "2022-09-12T02:24:42.270141",
     "exception": false,
     "start_time": "2022-09-12T02:24:42.247485",
     "status": "completed"
    },
    "tags": []
   },
   "outputs": [
    {
     "data": {
      "text/plain": [
       "3"
      ]
     },
     "execution_count": 5,
     "metadata": {},
     "output_type": "execute_result"
    }
   ],
   "source": [
    "matriz [0,2]"
   ]
  },
  {
   "cell_type": "code",
   "execution_count": 6,
   "id": "3f53c288",
   "metadata": {
    "execution": {
     "iopub.execute_input": "2022-09-12T02:24:42.298417Z",
     "iopub.status.busy": "2022-09-12T02:24:42.297207Z",
     "iopub.status.idle": "2022-09-12T02:24:42.303602Z",
     "shell.execute_reply": "2022-09-12T02:24:42.302888Z"
    },
    "papermill": {
     "duration": 0.022575,
     "end_time": "2022-09-12T02:24:42.305690",
     "exception": false,
     "start_time": "2022-09-12T02:24:42.283115",
     "status": "completed"
    },
    "tags": []
   },
   "outputs": [
    {
     "data": {
      "text/plain": [
       "array([0, 1, 2, 3, 4, 5, 6, 7, 8, 9])"
      ]
     },
     "execution_count": 6,
     "metadata": {},
     "output_type": "execute_result"
    }
   ],
   "source": [
    "arr"
   ]
  },
  {
   "cell_type": "markdown",
   "id": "738d702f",
   "metadata": {
    "papermill": {
     "duration": 0.012818,
     "end_time": "2022-09-12T02:24:42.332234",
     "exception": false,
     "start_time": "2022-09-12T02:24:42.319416",
     "status": "completed"
    },
    "tags": []
   },
   "source": [
    "### **Slicing**"
   ]
  },
  {
   "cell_type": "code",
   "execution_count": 7,
   "id": "c101367f",
   "metadata": {
    "execution": {
     "iopub.execute_input": "2022-09-12T02:24:42.360949Z",
     "iopub.status.busy": "2022-09-12T02:24:42.360309Z",
     "iopub.status.idle": "2022-09-12T02:24:42.366383Z",
     "shell.execute_reply": "2022-09-12T02:24:42.365635Z"
    },
    "papermill": {
     "duration": 0.022868,
     "end_time": "2022-09-12T02:24:42.368371",
     "exception": false,
     "start_time": "2022-09-12T02:24:42.345503",
     "status": "completed"
    },
    "tags": []
   },
   "outputs": [
    {
     "data": {
      "text/plain": [
       "array([False,  True,  True,  True,  True,  True,  True,  True,  True,\n",
       "        True])"
      ]
     },
     "execution_count": 7,
     "metadata": {},
     "output_type": "execute_result"
    }
   ],
   "source": [
    "arr\n",
    "arr = arr.astype(np.bool_)\n",
    "arr"
   ]
  },
  {
   "cell_type": "code",
   "execution_count": 8,
   "id": "ef81a76f",
   "metadata": {
    "execution": {
     "iopub.execute_input": "2022-09-12T02:24:42.414559Z",
     "iopub.status.busy": "2022-09-12T02:24:42.413453Z",
     "iopub.status.idle": "2022-09-12T02:24:42.423517Z",
     "shell.execute_reply": "2022-09-12T02:24:42.422750Z"
    },
    "papermill": {
     "duration": 0.044386,
     "end_time": "2022-09-12T02:24:42.426139",
     "exception": false,
     "start_time": "2022-09-12T02:24:42.381753",
     "status": "completed"
    },
    "tags": []
   },
   "outputs": [
    {
     "data": {
      "text/plain": [
       "array([b'0', b'1', b'2', b'3', b'4', b'5', b'6', b'7', b'8', b'9'],\n",
       "      dtype='|S21')"
      ]
     },
     "execution_count": 8,
     "metadata": {},
     "output_type": "execute_result"
    }
   ],
   "source": [
    "arr = np.array(lista)\n",
    "arr = arr.astype(np.string_)\n",
    "arr"
   ]
  },
  {
   "cell_type": "markdown",
   "id": "be69c32d",
   "metadata": {
    "papermill": {
     "duration": 0.013903,
     "end_time": "2022-09-12T02:24:42.454025",
     "exception": false,
     "start_time": "2022-09-12T02:24:42.440122",
     "status": "completed"
    },
    "tags": []
   },
   "source": [
    "### **Dimensiones**"
   ]
  },
  {
   "cell_type": "code",
   "execution_count": 9,
   "id": "c31896a6",
   "metadata": {
    "execution": {
     "iopub.execute_input": "2022-09-12T02:24:42.484700Z",
     "iopub.status.busy": "2022-09-12T02:24:42.484050Z",
     "iopub.status.idle": "2022-09-12T02:24:42.491676Z",
     "shell.execute_reply": "2022-09-12T02:24:42.490072Z"
    },
    "papermill": {
     "duration": 0.025418,
     "end_time": "2022-09-12T02:24:42.493727",
     "exception": false,
     "start_time": "2022-09-12T02:24:42.468309",
     "status": "completed"
    },
    "tags": []
   },
   "outputs": [
    {
     "name": "stdout",
     "output_type": "stream",
     "text": [
      "42\n"
     ]
    },
    {
     "data": {
      "text/plain": [
       "0"
      ]
     },
     "execution_count": 9,
     "metadata": {},
     "output_type": "execute_result"
    }
   ],
   "source": [
    "# Definiendo un scalar\n",
    "scalar = np.array(42)\n",
    "print (scalar)\n",
    "scalar.ndim"
   ]
  },
  {
   "cell_type": "code",
   "execution_count": 10,
   "id": "bfa0dc53",
   "metadata": {
    "execution": {
     "iopub.execute_input": "2022-09-12T02:24:42.524494Z",
     "iopub.status.busy": "2022-09-12T02:24:42.523859Z",
     "iopub.status.idle": "2022-09-12T02:24:42.531207Z",
     "shell.execute_reply": "2022-09-12T02:24:42.529957Z"
    },
    "papermill": {
     "duration": 0.02544,
     "end_time": "2022-09-12T02:24:42.533757",
     "exception": false,
     "start_time": "2022-09-12T02:24:42.508317",
     "status": "completed"
    },
    "tags": []
   },
   "outputs": [
    {
     "name": "stdout",
     "output_type": "stream",
     "text": [
      "[1 2 3]\n"
     ]
    },
    {
     "data": {
      "text/plain": [
       "1"
      ]
     },
     "execution_count": 10,
     "metadata": {},
     "output_type": "execute_result"
    }
   ],
   "source": [
    "# Definiendo un vector\n",
    "vector = np.array([1,2,3])\n",
    "print(vector)\n",
    "vector.ndim"
   ]
  },
  {
   "cell_type": "code",
   "execution_count": 11,
   "id": "b520e269",
   "metadata": {
    "execution": {
     "iopub.execute_input": "2022-09-12T02:24:42.564554Z",
     "iopub.status.busy": "2022-09-12T02:24:42.564085Z",
     "iopub.status.idle": "2022-09-12T02:24:42.571914Z",
     "shell.execute_reply": "2022-09-12T02:24:42.571026Z"
    },
    "papermill": {
     "duration": 0.027275,
     "end_time": "2022-09-12T02:24:42.575640",
     "exception": false,
     "start_time": "2022-09-12T02:24:42.548365",
     "status": "completed"
    },
    "tags": []
   },
   "outputs": [
    {
     "name": "stdout",
     "output_type": "stream",
     "text": [
      "[[1 2 3]\n",
      " [4 5 6]\n",
      " [7 8 9]]\n"
     ]
    },
    {
     "data": {
      "text/plain": [
       "2"
      ]
     },
     "execution_count": 11,
     "metadata": {},
     "output_type": "execute_result"
    }
   ],
   "source": [
    "# Definiendo una matriz\n",
    "matriz = np.array([[1,2,3],[4,5,6],[7,8,9]])\n",
    "print(matriz)\n",
    "matriz.ndim"
   ]
  },
  {
   "cell_type": "markdown",
   "id": "874e5457",
   "metadata": {
    "papermill": {
     "duration": 0.014063,
     "end_time": "2022-09-12T02:24:42.604548",
     "exception": false,
     "start_time": "2022-09-12T02:24:42.590485",
     "status": "completed"
    },
    "tags": []
   },
   "source": [
    "### **Creando Arrays**"
   ]
  },
  {
   "cell_type": "code",
   "execution_count": 12,
   "id": "39bb44c0",
   "metadata": {
    "execution": {
     "iopub.execute_input": "2022-09-12T02:24:42.636055Z",
     "iopub.status.busy": "2022-09-12T02:24:42.635407Z",
     "iopub.status.idle": "2022-09-12T02:24:42.641090Z",
     "shell.execute_reply": "2022-09-12T02:24:42.640424Z"
    },
    "papermill": {
     "duration": 0.024276,
     "end_time": "2022-09-12T02:24:42.643068",
     "exception": false,
     "start_time": "2022-09-12T02:24:42.618792",
     "status": "completed"
    },
    "tags": []
   },
   "outputs": [
    {
     "data": {
      "text/plain": [
       "array([ 0,  1,  2,  3,  4,  5,  6,  7,  8,  9, 10, 11, 12, 13, 14, 15, 16,\n",
       "       17, 18, 19])"
      ]
     },
     "execution_count": 12,
     "metadata": {},
     "output_type": "execute_result"
    }
   ],
   "source": [
    "np.arange(0,20,1)"
   ]
  },
  {
   "cell_type": "code",
   "execution_count": 13,
   "id": "1ef1b364",
   "metadata": {
    "execution": {
     "iopub.execute_input": "2022-09-12T02:24:42.673757Z",
     "iopub.status.busy": "2022-09-12T02:24:42.673193Z",
     "iopub.status.idle": "2022-09-12T02:24:42.679460Z",
     "shell.execute_reply": "2022-09-12T02:24:42.678808Z"
    },
    "papermill": {
     "duration": 0.023782,
     "end_time": "2022-09-12T02:24:42.681403",
     "exception": false,
     "start_time": "2022-09-12T02:24:42.657621",
     "status": "completed"
    },
    "tags": []
   },
   "outputs": [
    {
     "data": {
      "text/plain": [
       "array([0., 0., 0.])"
      ]
     },
     "execution_count": 13,
     "metadata": {},
     "output_type": "execute_result"
    }
   ],
   "source": [
    "np.zeros(3)"
   ]
  },
  {
   "cell_type": "code",
   "execution_count": 14,
   "id": "7c250295",
   "metadata": {
    "execution": {
     "iopub.execute_input": "2022-09-12T02:24:42.713206Z",
     "iopub.status.busy": "2022-09-12T02:24:42.712636Z",
     "iopub.status.idle": "2022-09-12T02:24:42.718779Z",
     "shell.execute_reply": "2022-09-12T02:24:42.718036Z"
    },
    "papermill": {
     "duration": 0.024035,
     "end_time": "2022-09-12T02:24:42.720672",
     "exception": false,
     "start_time": "2022-09-12T02:24:42.696637",
     "status": "completed"
    },
    "tags": []
   },
   "outputs": [
    {
     "data": {
      "text/plain": [
       "array([[0., 0., 0., 0., 0., 0., 0., 0., 0., 0.],\n",
       "       [0., 0., 0., 0., 0., 0., 0., 0., 0., 0.],\n",
       "       [0., 0., 0., 0., 0., 0., 0., 0., 0., 0.],\n",
       "       [0., 0., 0., 0., 0., 0., 0., 0., 0., 0.],\n",
       "       [0., 0., 0., 0., 0., 0., 0., 0., 0., 0.],\n",
       "       [0., 0., 0., 0., 0., 0., 0., 0., 0., 0.],\n",
       "       [0., 0., 0., 0., 0., 0., 0., 0., 0., 0.],\n",
       "       [0., 0., 0., 0., 0., 0., 0., 0., 0., 0.],\n",
       "       [0., 0., 0., 0., 0., 0., 0., 0., 0., 0.],\n",
       "       [0., 0., 0., 0., 0., 0., 0., 0., 0., 0.]])"
      ]
     },
     "execution_count": 14,
     "metadata": {},
     "output_type": "execute_result"
    }
   ],
   "source": [
    "# Esto es util para crear array de iteracion o de imagenes con tamaños definidos\n",
    "np.zeros((10,10))\n"
   ]
  },
  {
   "cell_type": "code",
   "execution_count": 15,
   "id": "3fec16d4",
   "metadata": {
    "execution": {
     "iopub.execute_input": "2022-09-12T02:24:42.752632Z",
     "iopub.status.busy": "2022-09-12T02:24:42.752041Z",
     "iopub.status.idle": "2022-09-12T02:24:42.757758Z",
     "shell.execute_reply": "2022-09-12T02:24:42.757088Z"
    },
    "papermill": {
     "duration": 0.02367,
     "end_time": "2022-09-12T02:24:42.759618",
     "exception": false,
     "start_time": "2022-09-12T02:24:42.735948",
     "status": "completed"
    },
    "tags": []
   },
   "outputs": [
    {
     "data": {
      "text/plain": [
       "array([[1., 1., 1., 1., 1.],\n",
       "       [1., 1., 1., 1., 1.],\n",
       "       [1., 1., 1., 1., 1.],\n",
       "       [1., 1., 1., 1., 1.],\n",
       "       [1., 1., 1., 1., 1.]])"
      ]
     },
     "execution_count": 15,
     "metadata": {},
     "output_type": "execute_result"
    }
   ],
   "source": [
    "np.ones((5,5))"
   ]
  },
  {
   "cell_type": "code",
   "execution_count": 16,
   "id": "1e44273b",
   "metadata": {
    "execution": {
     "iopub.execute_input": "2022-09-12T02:24:42.790892Z",
     "iopub.status.busy": "2022-09-12T02:24:42.790299Z",
     "iopub.status.idle": "2022-09-12T02:24:42.796189Z",
     "shell.execute_reply": "2022-09-12T02:24:42.795153Z"
    },
    "papermill": {
     "duration": 0.024028,
     "end_time": "2022-09-12T02:24:42.798246",
     "exception": false,
     "start_time": "2022-09-12T02:24:42.774218",
     "status": "completed"
    },
    "tags": []
   },
   "outputs": [
    {
     "data": {
      "text/plain": [
       "array([ 0.        ,  0.52631579,  1.05263158,  1.57894737,  2.10526316,\n",
       "        2.63157895,  3.15789474,  3.68421053,  4.21052632,  4.73684211,\n",
       "        5.26315789,  5.78947368,  6.31578947,  6.84210526,  7.36842105,\n",
       "        7.89473684,  8.42105263,  8.94736842,  9.47368421, 10.        ])"
      ]
     },
     "execution_count": 16,
     "metadata": {},
     "output_type": "execute_result"
    }
   ],
   "source": [
    "# Linspace Hace una distribucion de los datos con un rango definido\n",
    "np.linspace(0,10,20)"
   ]
  },
  {
   "cell_type": "code",
   "execution_count": 17,
   "id": "f1195ae7",
   "metadata": {
    "execution": {
     "iopub.execute_input": "2022-09-12T02:24:42.830380Z",
     "iopub.status.busy": "2022-09-12T02:24:42.829831Z",
     "iopub.status.idle": "2022-09-12T02:24:42.836289Z",
     "shell.execute_reply": "2022-09-12T02:24:42.835229Z"
    },
    "papermill": {
     "duration": 0.025362,
     "end_time": "2022-09-12T02:24:42.838689",
     "exception": false,
     "start_time": "2022-09-12T02:24:42.813327",
     "status": "completed"
    },
    "tags": []
   },
   "outputs": [
    {
     "data": {
      "text/plain": [
       "array([[1., 0., 0., 0.],\n",
       "       [0., 1., 0., 0.],\n",
       "       [0., 0., 1., 0.],\n",
       "       [0., 0., 0., 1.]])"
      ]
     },
     "execution_count": 17,
     "metadata": {},
     "output_type": "execute_result"
    }
   ],
   "source": [
    "# Return a 2-D array with ones on the diagonal and zeros elsewhere.\n",
    "np.eye(4)"
   ]
  },
  {
   "cell_type": "code",
   "execution_count": 18,
   "id": "572c662e",
   "metadata": {
    "execution": {
     "iopub.execute_input": "2022-09-12T02:24:42.870197Z",
     "iopub.status.busy": "2022-09-12T02:24:42.869717Z",
     "iopub.status.idle": "2022-09-12T02:24:42.876336Z",
     "shell.execute_reply": "2022-09-12T02:24:42.875305Z"
    },
    "papermill": {
     "duration": 0.024852,
     "end_time": "2022-09-12T02:24:42.878443",
     "exception": false,
     "start_time": "2022-09-12T02:24:42.853591",
     "status": "completed"
    },
    "tags": []
   },
   "outputs": [
    {
     "data": {
      "text/plain": [
       "0.10152967416759406"
      ]
     },
     "execution_count": 18,
     "metadata": {},
     "output_type": "execute_result"
    }
   ],
   "source": [
    "np.random.rand()"
   ]
  },
  {
   "cell_type": "code",
   "execution_count": 19,
   "id": "20674756",
   "metadata": {
    "execution": {
     "iopub.execute_input": "2022-09-12T02:24:42.910776Z",
     "iopub.status.busy": "2022-09-12T02:24:42.909384Z",
     "iopub.status.idle": "2022-09-12T02:24:42.917681Z",
     "shell.execute_reply": "2022-09-12T02:24:42.916737Z"
    },
    "papermill": {
     "duration": 0.026301,
     "end_time": "2022-09-12T02:24:42.919683",
     "exception": false,
     "start_time": "2022-09-12T02:24:42.893382",
     "status": "completed"
    },
    "tags": []
   },
   "outputs": [
    {
     "data": {
      "text/plain": [
       "array([0.17412306, 0.29346912, 0.32884215, 0.44083705])"
      ]
     },
     "execution_count": 19,
     "metadata": {},
     "output_type": "execute_result"
    }
   ],
   "source": [
    "np.random.rand(4)"
   ]
  },
  {
   "cell_type": "code",
   "execution_count": 20,
   "id": "3ee133bc",
   "metadata": {
    "execution": {
     "iopub.execute_input": "2022-09-12T02:24:42.951442Z",
     "iopub.status.busy": "2022-09-12T02:24:42.950731Z",
     "iopub.status.idle": "2022-09-12T02:24:42.958179Z",
     "shell.execute_reply": "2022-09-12T02:24:42.957099Z"
    },
    "papermill": {
     "duration": 0.025698,
     "end_time": "2022-09-12T02:24:42.960354",
     "exception": false,
     "start_time": "2022-09-12T02:24:42.934656",
     "status": "completed"
    },
    "tags": []
   },
   "outputs": [
    {
     "data": {
      "text/plain": [
       "array([[0.45091322, 0.45458381, 0.99031091, 0.64913539],\n",
       "       [0.93025233, 0.59200663, 0.44864137, 0.96797475],\n",
       "       [0.54421617, 0.63133235, 0.98009422, 0.30443858],\n",
       "       [0.80320735, 0.9199267 , 0.08238732, 0.90903234]])"
      ]
     },
     "execution_count": 20,
     "metadata": {},
     "output_type": "execute_result"
    }
   ],
   "source": [
    "np.random.rand(4,4)"
   ]
  },
  {
   "cell_type": "code",
   "execution_count": 21,
   "id": "60e40a0f",
   "metadata": {
    "execution": {
     "iopub.execute_input": "2022-09-12T02:24:42.992825Z",
     "iopub.status.busy": "2022-09-12T02:24:42.992138Z",
     "iopub.status.idle": "2022-09-12T02:24:42.998792Z",
     "shell.execute_reply": "2022-09-12T02:24:42.998142Z"
    },
    "papermill": {
     "duration": 0.0248,
     "end_time": "2022-09-12T02:24:43.000705",
     "exception": false,
     "start_time": "2022-09-12T02:24:42.975905",
     "status": "completed"
    },
    "tags": []
   },
   "outputs": [
    {
     "data": {
      "text/plain": [
       "4"
      ]
     },
     "execution_count": 21,
     "metadata": {},
     "output_type": "execute_result"
    }
   ],
   "source": [
    "np.random.randint(1,15)"
   ]
  },
  {
   "cell_type": "code",
   "execution_count": 22,
   "id": "a1026d10",
   "metadata": {
    "execution": {
     "iopub.execute_input": "2022-09-12T02:24:43.033196Z",
     "iopub.status.busy": "2022-09-12T02:24:43.032694Z",
     "iopub.status.idle": "2022-09-12T02:24:43.040067Z",
     "shell.execute_reply": "2022-09-12T02:24:43.039133Z"
    },
    "papermill": {
     "duration": 0.026587,
     "end_time": "2022-09-12T02:24:43.042229",
     "exception": false,
     "start_time": "2022-09-12T02:24:43.015642",
     "status": "completed"
    },
    "tags": []
   },
   "outputs": [
    {
     "data": {
      "text/plain": [
       "array([[ 7, 11, 84, 11, 16, 54,  5, 28, 94, 28],\n",
       "       [50, 32, 14, 18, 30, 20, 82, 57, 50, 65],\n",
       "       [29, 11, 88, 78, 77, 24, 78, 45, 33, 47],\n",
       "       [48, 95, 38, 26, 94, 63, 38, 73,  5, 39],\n",
       "       [27,  9, 99, 90, 98, 87, 91, 78, 85, 66],\n",
       "       [68, 38, 54, 76, 59, 68, 49, 80, 47, 31],\n",
       "       [92, 27, 45, 83, 90, 15, 78, 82, 67, 70],\n",
       "       [52, 45, 61, 22, 61, 48, 12, 52, 95, 24],\n",
       "       [13, 57, 98, 22, 26, 21, 82, 36, 31, 18],\n",
       "       [94, 72, 36, 43, 96, 36, 88, 98, 41, 94]])"
      ]
     },
     "execution_count": 22,
     "metadata": {},
     "output_type": "execute_result"
    }
   ],
   "source": [
    "np.random.randint(1,100,(10,10))"
   ]
  },
  {
   "cell_type": "markdown",
   "id": "171d2eff",
   "metadata": {
    "papermill": {
     "duration": 0.014542,
     "end_time": "2022-09-12T02:24:43.073282",
     "exception": false,
     "start_time": "2022-09-12T02:24:43.058740",
     "status": "completed"
    },
    "tags": []
   },
   "source": [
    "### **Shape y Reshape**\n",
    "Nos ayuda s identificar las caracteristicas de un arreglo y saber manipularlas"
   ]
  },
  {
   "cell_type": "code",
   "execution_count": 23,
   "id": "c95de047",
   "metadata": {
    "execution": {
     "iopub.execute_input": "2022-09-12T02:24:43.104859Z",
     "iopub.status.busy": "2022-09-12T02:24:43.104436Z",
     "iopub.status.idle": "2022-09-12T02:24:43.110872Z",
     "shell.execute_reply": "2022-09-12T02:24:43.109969Z"
    },
    "papermill": {
     "duration": 0.024943,
     "end_time": "2022-09-12T02:24:43.113229",
     "exception": false,
     "start_time": "2022-09-12T02:24:43.088286",
     "status": "completed"
    },
    "tags": []
   },
   "outputs": [
    {
     "data": {
      "text/plain": [
       "(3, 2)"
      ]
     },
     "execution_count": 23,
     "metadata": {},
     "output_type": "execute_result"
    }
   ],
   "source": [
    "#Devuelve las dimensiones del arreglo\n",
    "arr = np.random.randint(1,10,(3,2))\n",
    "arr.shape \n"
   ]
  },
  {
   "cell_type": "code",
   "execution_count": 24,
   "id": "67438aa9",
   "metadata": {
    "execution": {
     "iopub.execute_input": "2022-09-12T02:24:43.145358Z",
     "iopub.status.busy": "2022-09-12T02:24:43.144644Z",
     "iopub.status.idle": "2022-09-12T02:24:43.150825Z",
     "shell.execute_reply": "2022-09-12T02:24:43.150026Z"
    },
    "papermill": {
     "duration": 0.024469,
     "end_time": "2022-09-12T02:24:43.152800",
     "exception": false,
     "start_time": "2022-09-12T02:24:43.128331",
     "status": "completed"
    },
    "tags": []
   },
   "outputs": [
    {
     "data": {
      "text/plain": [
       "array([[2, 4],\n",
       "       [2, 6],\n",
       "       [6, 9]])"
      ]
     },
     "execution_count": 24,
     "metadata": {},
     "output_type": "execute_result"
    }
   ],
   "source": [
    "arr"
   ]
  },
  {
   "cell_type": "code",
   "execution_count": 25,
   "id": "783f8ac8",
   "metadata": {
    "execution": {
     "iopub.execute_input": "2022-09-12T02:24:43.185530Z",
     "iopub.status.busy": "2022-09-12T02:24:43.184851Z",
     "iopub.status.idle": "2022-09-12T02:24:43.191450Z",
     "shell.execute_reply": "2022-09-12T02:24:43.190746Z"
    },
    "papermill": {
     "duration": 0.025291,
     "end_time": "2022-09-12T02:24:43.193401",
     "exception": false,
     "start_time": "2022-09-12T02:24:43.168110",
     "status": "completed"
    },
    "tags": []
   },
   "outputs": [
    {
     "data": {
      "text/plain": [
       "array([[2, 4, 2, 6, 6, 9]])"
      ]
     },
     "execution_count": 25,
     "metadata": {},
     "output_type": "execute_result"
    }
   ],
   "source": [
    "# Cambia la forma del arreglo \n",
    "# Reshape, Gives a new shape to an array without changing its data.\n",
    "arr.reshape(1,6)"
   ]
  },
  {
   "cell_type": "code",
   "execution_count": 26,
   "id": "accc87a6",
   "metadata": {
    "execution": {
     "iopub.execute_input": "2022-09-12T02:24:43.225974Z",
     "iopub.status.busy": "2022-09-12T02:24:43.225276Z",
     "iopub.status.idle": "2022-09-12T02:24:43.231870Z",
     "shell.execute_reply": "2022-09-12T02:24:43.231181Z"
    },
    "papermill": {
     "duration": 0.025252,
     "end_time": "2022-09-12T02:24:43.233828",
     "exception": false,
     "start_time": "2022-09-12T02:24:43.208576",
     "status": "completed"
    },
    "tags": []
   },
   "outputs": [
    {
     "data": {
      "text/plain": [
       "array([[2, 4, 2],\n",
       "       [6, 6, 9]])"
      ]
     },
     "execution_count": 26,
     "metadata": {},
     "output_type": "execute_result"
    }
   ],
   "source": [
    "arr.reshape(2,3)"
   ]
  },
  {
   "cell_type": "code",
   "execution_count": 27,
   "id": "3d23ae03",
   "metadata": {
    "execution": {
     "iopub.execute_input": "2022-09-12T02:24:43.266611Z",
     "iopub.status.busy": "2022-09-12T02:24:43.265944Z",
     "iopub.status.idle": "2022-09-12T02:24:43.272395Z",
     "shell.execute_reply": "2022-09-12T02:24:43.271657Z"
    },
    "papermill": {
     "duration": 0.025018,
     "end_time": "2022-09-12T02:24:43.274329",
     "exception": false,
     "start_time": "2022-09-12T02:24:43.249311",
     "status": "completed"
    },
    "tags": []
   },
   "outputs": [
    {
     "data": {
      "text/plain": [
       "array([[2, 4, 2, 6, 6, 9]])"
      ]
     },
     "execution_count": 27,
     "metadata": {},
     "output_type": "execute_result"
    }
   ],
   "source": [
    "np.reshape(arr,(1,6))"
   ]
  },
  {
   "cell_type": "markdown",
   "id": "d3b8fd7b",
   "metadata": {
    "papermill": {
     "duration": 0.015198,
     "end_time": "2022-09-12T02:24:43.305114",
     "exception": false,
     "start_time": "2022-09-12T02:24:43.289916",
     "status": "completed"
    },
    "tags": []
   },
   "source": [
    "### **Funciones principales de Numpy**"
   ]
  },
  {
   "cell_type": "code",
   "execution_count": 28,
   "id": "95cffdc7",
   "metadata": {
    "execution": {
     "iopub.execute_input": "2022-09-12T02:24:43.338284Z",
     "iopub.status.busy": "2022-09-12T02:24:43.337376Z",
     "iopub.status.idle": "2022-09-12T02:24:43.343853Z",
     "shell.execute_reply": "2022-09-12T02:24:43.343120Z"
    },
    "papermill": {
     "duration": 0.025185,
     "end_time": "2022-09-12T02:24:43.345994",
     "exception": false,
     "start_time": "2022-09-12T02:24:43.320809",
     "status": "completed"
    },
    "tags": []
   },
   "outputs": [
    {
     "data": {
      "text/plain": [
       "array([ 1,  8,  8,  1,  3, 11,  6, 18, 17, 11])"
      ]
     },
     "execution_count": 28,
     "metadata": {},
     "output_type": "execute_result"
    }
   ],
   "source": [
    "arr = np.random.randint(1,20,10)\n",
    "arr"
   ]
  },
  {
   "cell_type": "code",
   "execution_count": 29,
   "id": "6f1573ac",
   "metadata": {
    "execution": {
     "iopub.execute_input": "2022-09-12T02:24:43.380452Z",
     "iopub.status.busy": "2022-09-12T02:24:43.379691Z",
     "iopub.status.idle": "2022-09-12T02:24:43.385724Z",
     "shell.execute_reply": "2022-09-12T02:24:43.385044Z"
    },
    "papermill": {
     "duration": 0.025407,
     "end_time": "2022-09-12T02:24:43.387637",
     "exception": false,
     "start_time": "2022-09-12T02:24:43.362230",
     "status": "completed"
    },
    "tags": []
   },
   "outputs": [
    {
     "data": {
      "text/plain": [
       "array([[ 1,  8,  8,  1,  3],\n",
       "       [11,  6, 18, 17, 11]])"
      ]
     },
     "execution_count": 29,
     "metadata": {},
     "output_type": "execute_result"
    }
   ],
   "source": [
    "matriz = arr.reshape(2,5)\n",
    "matriz"
   ]
  },
  {
   "cell_type": "code",
   "execution_count": 30,
   "id": "5b02125d",
   "metadata": {
    "execution": {
     "iopub.execute_input": "2022-09-12T02:24:43.421833Z",
     "iopub.status.busy": "2022-09-12T02:24:43.421133Z",
     "iopub.status.idle": "2022-09-12T02:24:43.427850Z",
     "shell.execute_reply": "2022-09-12T02:24:43.427194Z"
    },
    "papermill": {
     "duration": 0.026129,
     "end_time": "2022-09-12T02:24:43.429813",
     "exception": false,
     "start_time": "2022-09-12T02:24:43.403684",
     "status": "completed"
    },
    "tags": []
   },
   "outputs": [
    {
     "data": {
      "text/plain": [
       "18"
      ]
     },
     "execution_count": 30,
     "metadata": {},
     "output_type": "execute_result"
    }
   ],
   "source": [
    "# Devuelve el maximo valor en la matriz\n",
    "matriz.max()"
   ]
  },
  {
   "cell_type": "code",
   "execution_count": 31,
   "id": "aed94a22",
   "metadata": {
    "execution": {
     "iopub.execute_input": "2022-09-12T02:24:43.463933Z",
     "iopub.status.busy": "2022-09-12T02:24:43.463234Z",
     "iopub.status.idle": "2022-09-12T02:24:43.469906Z",
     "shell.execute_reply": "2022-09-12T02:24:43.469264Z"
    },
    "papermill": {
     "duration": 0.026139,
     "end_time": "2022-09-12T02:24:43.471841",
     "exception": false,
     "start_time": "2022-09-12T02:24:43.445702",
     "status": "completed"
    },
    "tags": []
   },
   "outputs": [
    {
     "data": {
      "text/plain": [
       "array([ 8, 18])"
      ]
     },
     "execution_count": 31,
     "metadata": {},
     "output_type": "execute_result"
    }
   ],
   "source": [
    "# Devuelve el valor maximo en una fila\n",
    "matriz.max(1)"
   ]
  },
  {
   "cell_type": "code",
   "execution_count": 32,
   "id": "61e9d57e",
   "metadata": {
    "execution": {
     "iopub.execute_input": "2022-09-12T02:24:43.506629Z",
     "iopub.status.busy": "2022-09-12T02:24:43.505939Z",
     "iopub.status.idle": "2022-09-12T02:24:43.512091Z",
     "shell.execute_reply": "2022-09-12T02:24:43.511211Z"
    },
    "papermill": {
     "duration": 0.025874,
     "end_time": "2022-09-12T02:24:43.514150",
     "exception": false,
     "start_time": "2022-09-12T02:24:43.488276",
     "status": "completed"
    },
    "tags": []
   },
   "outputs": [
    {
     "data": {
      "text/plain": [
       "7"
      ]
     },
     "execution_count": 32,
     "metadata": {},
     "output_type": "execute_result"
    }
   ],
   "source": [
    "# Devuelve el indice del el valor maximo que se encuentra ubicado en el vector del array \n",
    "arr.argmax()"
   ]
  },
  {
   "cell_type": "code",
   "execution_count": 33,
   "id": "d01daa3c",
   "metadata": {
    "execution": {
     "iopub.execute_input": "2022-09-12T02:24:43.548821Z",
     "iopub.status.busy": "2022-09-12T02:24:43.548402Z",
     "iopub.status.idle": "2022-09-12T02:24:43.555227Z",
     "shell.execute_reply": "2022-09-12T02:24:43.554126Z"
    },
    "papermill": {
     "duration": 0.027152,
     "end_time": "2022-09-12T02:24:43.557736",
     "exception": false,
     "start_time": "2022-09-12T02:24:43.530584",
     "status": "completed"
    },
    "tags": []
   },
   "outputs": [
    {
     "data": {
      "text/plain": [
       "1"
      ]
     },
     "execution_count": 33,
     "metadata": {},
     "output_type": "execute_result"
    }
   ],
   "source": [
    "# Devuelve el valor minimo\n",
    "arr.min()"
   ]
  },
  {
   "cell_type": "code",
   "execution_count": 34,
   "id": "ffc503dd",
   "metadata": {
    "execution": {
     "iopub.execute_input": "2022-09-12T02:24:43.593613Z",
     "iopub.status.busy": "2022-09-12T02:24:43.593004Z",
     "iopub.status.idle": "2022-09-12T02:24:43.598367Z",
     "shell.execute_reply": "2022-09-12T02:24:43.597492Z"
    },
    "papermill": {
     "duration": 0.025593,
     "end_time": "2022-09-12T02:24:43.600419",
     "exception": false,
     "start_time": "2022-09-12T02:24:43.574826",
     "status": "completed"
    },
    "tags": []
   },
   "outputs": [
    {
     "data": {
      "text/plain": [
       "17"
      ]
     },
     "execution_count": 34,
     "metadata": {},
     "output_type": "execute_result"
    }
   ],
   "source": [
    "# Pic to Pic, devuelve el valor entre los picos minimo y maximo del array \n",
    "arr.ptp()"
   ]
  },
  {
   "cell_type": "code",
   "execution_count": 35,
   "id": "fc1ff773",
   "metadata": {
    "execution": {
     "iopub.execute_input": "2022-09-12T02:24:43.635860Z",
     "iopub.status.busy": "2022-09-12T02:24:43.635410Z",
     "iopub.status.idle": "2022-09-12T02:24:43.643790Z",
     "shell.execute_reply": "2022-09-12T02:24:43.643020Z"
    },
    "papermill": {
     "duration": 0.028698,
     "end_time": "2022-09-12T02:24:43.645910",
     "exception": false,
     "start_time": "2022-09-12T02:24:43.617212",
     "status": "completed"
    },
    "tags": []
   },
   "outputs": [
    {
     "data": {
      "text/plain": [
       "8.0"
      ]
     },
     "execution_count": 35,
     "metadata": {},
     "output_type": "execute_result"
    }
   ],
   "source": [
    "# Retorna el valor que representa la mitad de los datos \n",
    "np.percentile(arr,50)"
   ]
  },
  {
   "cell_type": "code",
   "execution_count": 36,
   "id": "cffb2cbc",
   "metadata": {
    "execution": {
     "iopub.execute_input": "2022-09-12T02:24:43.682957Z",
     "iopub.status.busy": "2022-09-12T02:24:43.682274Z",
     "iopub.status.idle": "2022-09-12T02:24:43.689234Z",
     "shell.execute_reply": "2022-09-12T02:24:43.688347Z"
    },
    "papermill": {
     "duration": 0.028193,
     "end_time": "2022-09-12T02:24:43.691402",
     "exception": false,
     "start_time": "2022-09-12T02:24:43.663209",
     "status": "completed"
    },
    "tags": []
   },
   "outputs": [
    {
     "data": {
      "text/plain": [
       "array([ 1,  1,  3,  6,  8,  8, 11, 11, 17, 18])"
      ]
     },
     "execution_count": 36,
     "metadata": {},
     "output_type": "execute_result"
    }
   ],
   "source": [
    "# Sort ordena el vector de menor a mayor\n",
    "arr.sort()\n",
    "arr"
   ]
  },
  {
   "cell_type": "code",
   "execution_count": 37,
   "id": "3d9f0f6c",
   "metadata": {
    "execution": {
     "iopub.execute_input": "2022-09-12T02:24:43.726787Z",
     "iopub.status.busy": "2022-09-12T02:24:43.726093Z",
     "iopub.status.idle": "2022-09-12T02:24:43.732570Z",
     "shell.execute_reply": "2022-09-12T02:24:43.731827Z"
    },
    "papermill": {
     "duration": 0.026204,
     "end_time": "2022-09-12T02:24:43.734567",
     "exception": false,
     "start_time": "2022-09-12T02:24:43.708363",
     "status": "completed"
    },
    "tags": []
   },
   "outputs": [
    {
     "data": {
      "text/plain": [
       "8.0"
      ]
     },
     "execution_count": 37,
     "metadata": {},
     "output_type": "execute_result"
    }
   ],
   "source": [
    "# Calcula la mediana de un numero especifico de datos \n",
    "np.median(arr)"
   ]
  },
  {
   "cell_type": "code",
   "execution_count": 38,
   "id": "eb5d60c4",
   "metadata": {
    "execution": {
     "iopub.execute_input": "2022-09-12T02:24:43.769738Z",
     "iopub.status.busy": "2022-09-12T02:24:43.769079Z",
     "iopub.status.idle": "2022-09-12T02:24:43.775337Z",
     "shell.execute_reply": "2022-09-12T02:24:43.774592Z"
    },
    "papermill": {
     "duration": 0.02608,
     "end_time": "2022-09-12T02:24:43.777248",
     "exception": false,
     "start_time": "2022-09-12T02:24:43.751168",
     "status": "completed"
    },
    "tags": []
   },
   "outputs": [
    {
     "data": {
      "text/plain": [
       "5.6956123463592565"
      ]
     },
     "execution_count": 38,
     "metadata": {},
     "output_type": "execute_result"
    }
   ],
   "source": [
    "# Calcula la desviacion estandar de un numero especifico de datos\n",
    "np.std(arr)"
   ]
  },
  {
   "cell_type": "code",
   "execution_count": 39,
   "id": "b2ff0f98",
   "metadata": {
    "execution": {
     "iopub.execute_input": "2022-09-12T02:24:43.812668Z",
     "iopub.status.busy": "2022-09-12T02:24:43.811883Z",
     "iopub.status.idle": "2022-09-12T02:24:43.818561Z",
     "shell.execute_reply": "2022-09-12T02:24:43.817813Z"
    },
    "papermill": {
     "duration": 0.02669,
     "end_time": "2022-09-12T02:24:43.820537",
     "exception": false,
     "start_time": "2022-09-12T02:24:43.793847",
     "status": "completed"
    },
    "tags": []
   },
   "outputs": [
    {
     "data": {
      "text/plain": [
       "32.44"
      ]
     },
     "execution_count": 39,
     "metadata": {},
     "output_type": "execute_result"
    }
   ],
   "source": [
    "# Calcula la varianza de un numero especifico de datos\n",
    "np.var(arr)"
   ]
  },
  {
   "cell_type": "code",
   "execution_count": 40,
   "id": "0705c2bc",
   "metadata": {
    "execution": {
     "iopub.execute_input": "2022-09-12T02:24:43.856024Z",
     "iopub.status.busy": "2022-09-12T02:24:43.855609Z",
     "iopub.status.idle": "2022-09-12T02:24:43.861638Z",
     "shell.execute_reply": "2022-09-12T02:24:43.860912Z"
    },
    "papermill": {
     "duration": 0.026235,
     "end_time": "2022-09-12T02:24:43.863587",
     "exception": false,
     "start_time": "2022-09-12T02:24:43.837352",
     "status": "completed"
    },
    "tags": []
   },
   "outputs": [
    {
     "data": {
      "text/plain": [
       "8.4"
      ]
     },
     "execution_count": 40,
     "metadata": {},
     "output_type": "execute_result"
    }
   ],
   "source": [
    "# Calcula el promedio de un numero especifico de datos \n",
    "np.mean(arr)"
   ]
  },
  {
   "cell_type": "code",
   "execution_count": 41,
   "id": "6d68973a",
   "metadata": {
    "execution": {
     "iopub.execute_input": "2022-09-12T02:24:43.899611Z",
     "iopub.status.busy": "2022-09-12T02:24:43.898380Z",
     "iopub.status.idle": "2022-09-12T02:24:43.903636Z",
     "shell.execute_reply": "2022-09-12T02:24:43.902850Z"
    },
    "papermill": {
     "duration": 0.0252,
     "end_time": "2022-09-12T02:24:43.905699",
     "exception": false,
     "start_time": "2022-09-12T02:24:43.880499",
     "status": "completed"
    },
    "tags": []
   },
   "outputs": [],
   "source": [
    "a = np.array([[1,2],[3,4]])\n",
    "b = np.array([5,6])"
   ]
  },
  {
   "cell_type": "code",
   "execution_count": 42,
   "id": "b4059f1a",
   "metadata": {
    "execution": {
     "iopub.execute_input": "2022-09-12T02:24:43.942586Z",
     "iopub.status.busy": "2022-09-12T02:24:43.941539Z",
     "iopub.status.idle": "2022-09-12T02:24:43.948266Z",
     "shell.execute_reply": "2022-09-12T02:24:43.947354Z"
    },
    "papermill": {
     "duration": 0.027086,
     "end_time": "2022-09-12T02:24:43.950226",
     "exception": false,
     "start_time": "2022-09-12T02:24:43.923140",
     "status": "completed"
    },
    "tags": []
   },
   "outputs": [
    {
     "data": {
      "text/plain": [
       "2"
      ]
     },
     "execution_count": 42,
     "metadata": {},
     "output_type": "execute_result"
    }
   ],
   "source": [
    "a.ndim"
   ]
  },
  {
   "cell_type": "code",
   "execution_count": 43,
   "id": "a4b68cb6",
   "metadata": {
    "execution": {
     "iopub.execute_input": "2022-09-12T02:24:43.986641Z",
     "iopub.status.busy": "2022-09-12T02:24:43.986186Z",
     "iopub.status.idle": "2022-09-12T02:24:43.993504Z",
     "shell.execute_reply": "2022-09-12T02:24:43.992353Z"
    },
    "papermill": {
     "duration": 0.028513,
     "end_time": "2022-09-12T02:24:43.995760",
     "exception": false,
     "start_time": "2022-09-12T02:24:43.967247",
     "status": "completed"
    },
    "tags": []
   },
   "outputs": [
    {
     "data": {
      "text/plain": [
       "1"
      ]
     },
     "execution_count": 43,
     "metadata": {},
     "output_type": "execute_result"
    }
   ],
   "source": [
    "b.ndim"
   ]
  },
  {
   "cell_type": "code",
   "execution_count": 44,
   "id": "89d4cca7",
   "metadata": {
    "execution": {
     "iopub.execute_input": "2022-09-12T02:24:44.032172Z",
     "iopub.status.busy": "2022-09-12T02:24:44.031729Z",
     "iopub.status.idle": "2022-09-12T02:24:44.039221Z",
     "shell.execute_reply": "2022-09-12T02:24:44.038342Z"
    },
    "papermill": {
     "duration": 0.028132,
     "end_time": "2022-09-12T02:24:44.041295",
     "exception": false,
     "start_time": "2022-09-12T02:24:44.013163",
     "status": "completed"
    },
    "tags": []
   },
   "outputs": [
    {
     "data": {
      "text/plain": [
       "array([[1, 2],\n",
       "       [3, 4],\n",
       "       [5, 6]])"
      ]
     },
     "execution_count": 44,
     "metadata": {},
     "output_type": "execute_result"
    }
   ],
   "source": [
    "b=np.expand_dims(b,axis=0)\n",
    "np.concatenate((a,b),axis=0)"
   ]
  },
  {
   "cell_type": "code",
   "execution_count": null,
   "id": "edb03549",
   "metadata": {
    "papermill": {
     "duration": 0.016711,
     "end_time": "2022-09-12T02:24:44.075217",
     "exception": false,
     "start_time": "2022-09-12T02:24:44.058506",
     "status": "completed"
    },
    "tags": []
   },
   "outputs": [],
   "source": []
  },
  {
   "cell_type": "markdown",
   "id": "6f07ca0f",
   "metadata": {
    "papermill": {
     "duration": 0.017229,
     "end_time": "2022-09-12T02:24:44.110147",
     "exception": false,
     "start_time": "2022-09-12T02:24:44.092918",
     "status": "completed"
    },
    "tags": []
   },
   "source": [
    "###  Condiciones"
   ]
  },
  {
   "cell_type": "code",
   "execution_count": 45,
   "id": "6323fcdb",
   "metadata": {
    "execution": {
     "iopub.execute_input": "2022-09-12T02:24:44.147364Z",
     "iopub.status.busy": "2022-09-12T02:24:44.146450Z",
     "iopub.status.idle": "2022-09-12T02:24:44.154331Z",
     "shell.execute_reply": "2022-09-12T02:24:44.152836Z"
    },
    "papermill": {
     "duration": 0.02912,
     "end_time": "2022-09-12T02:24:44.156413",
     "exception": false,
     "start_time": "2022-09-12T02:24:44.127293",
     "status": "completed"
    },
    "tags": []
   },
   "outputs": [
    {
     "data": {
      "text/plain": [
       "array([ 1,  2,  3,  4,  5,  6,  7,  8,  9, 10], dtype=int8)"
      ]
     },
     "execution_count": 45,
     "metadata": {},
     "output_type": "execute_result"
    }
   ],
   "source": [
    "arr = np.linspace(1,10,10, dtype=\"int8\")\n",
    "arr"
   ]
  },
  {
   "cell_type": "code",
   "execution_count": 46,
   "id": "3086d6d3",
   "metadata": {
    "execution": {
     "iopub.execute_input": "2022-09-12T02:24:44.195344Z",
     "iopub.status.busy": "2022-09-12T02:24:44.194709Z",
     "iopub.status.idle": "2022-09-12T02:24:44.199346Z",
     "shell.execute_reply": "2022-09-12T02:24:44.198441Z"
    },
    "papermill": {
     "duration": 0.026899,
     "end_time": "2022-09-12T02:24:44.201449",
     "exception": false,
     "start_time": "2022-09-12T02:24:44.174550",
     "status": "completed"
    },
    "tags": []
   },
   "outputs": [],
   "source": [
    "indices_cond = arr > 5\n"
   ]
  },
  {
   "cell_type": "code",
   "execution_count": 47,
   "id": "9a7bbd0c",
   "metadata": {
    "execution": {
     "iopub.execute_input": "2022-09-12T02:24:44.239442Z",
     "iopub.status.busy": "2022-09-12T02:24:44.239048Z",
     "iopub.status.idle": "2022-09-12T02:24:44.244284Z",
     "shell.execute_reply": "2022-09-12T02:24:44.243651Z"
    },
    "papermill": {
     "duration": 0.026597,
     "end_time": "2022-09-12T02:24:44.246260",
     "exception": false,
     "start_time": "2022-09-12T02:24:44.219663",
     "status": "completed"
    },
    "tags": []
   },
   "outputs": [
    {
     "data": {
      "text/plain": [
       "array([False, False, False, False, False,  True,  True,  True,  True,\n",
       "        True])"
      ]
     },
     "execution_count": 47,
     "metadata": {},
     "output_type": "execute_result"
    }
   ],
   "source": [
    "indices_cond "
   ]
  },
  {
   "cell_type": "code",
   "execution_count": 48,
   "id": "e07f024a",
   "metadata": {
    "execution": {
     "iopub.execute_input": "2022-09-12T02:24:44.284432Z",
     "iopub.status.busy": "2022-09-12T02:24:44.283821Z",
     "iopub.status.idle": "2022-09-12T02:24:44.290416Z",
     "shell.execute_reply": "2022-09-12T02:24:44.289368Z"
    },
    "papermill": {
     "duration": 0.028185,
     "end_time": "2022-09-12T02:24:44.292289",
     "exception": false,
     "start_time": "2022-09-12T02:24:44.264104",
     "status": "completed"
    },
    "tags": []
   },
   "outputs": [
    {
     "data": {
      "text/plain": [
       "array([ 6,  7,  8,  9, 10], dtype=int8)"
      ]
     },
     "execution_count": 48,
     "metadata": {},
     "output_type": "execute_result"
    }
   ],
   "source": [
    "arr[indices_cond]"
   ]
  },
  {
   "cell_type": "markdown",
   "id": "fc4a76ec",
   "metadata": {
    "papermill": {
     "duration": 0.017863,
     "end_time": "2022-09-12T02:24:44.328619",
     "exception": false,
     "start_time": "2022-09-12T02:24:44.310756",
     "status": "completed"
    },
    "tags": []
   },
   "source": [
    "### Operaciones "
   ]
  },
  {
   "cell_type": "code",
   "execution_count": 49,
   "id": "f915c9c7",
   "metadata": {
    "execution": {
     "iopub.execute_input": "2022-09-12T02:24:44.367921Z",
     "iopub.status.busy": "2022-09-12T02:24:44.366627Z",
     "iopub.status.idle": "2022-09-12T02:24:44.372461Z",
     "shell.execute_reply": "2022-09-12T02:24:44.371838Z"
    },
    "papermill": {
     "duration": 0.027705,
     "end_time": "2022-09-12T02:24:44.374560",
     "exception": false,
     "start_time": "2022-09-12T02:24:44.346855",
     "status": "completed"
    },
    "tags": []
   },
   "outputs": [
    {
     "data": {
      "text/plain": [
       "[1, 2]"
      ]
     },
     "execution_count": 49,
     "metadata": {},
     "output_type": "execute_result"
    }
   ],
   "source": [
    "lista = [1,2]\n",
    "lista"
   ]
  }
 ],
 "metadata": {
  "kernelspec": {
   "display_name": "Python 3",
   "language": "python",
   "name": "python3"
  },
  "language_info": {
   "codemirror_mode": {
    "name": "ipython",
    "version": 3
   },
   "file_extension": ".py",
   "mimetype": "text/x-python",
   "name": "python",
   "nbconvert_exporter": "python",
   "pygments_lexer": "ipython3",
   "version": "3.7.12"
  },
  "papermill": {
   "default_parameters": {},
   "duration": 13.27037,
   "end_time": "2022-09-12T02:24:45.216628",
   "environment_variables": {},
   "exception": null,
   "input_path": "__notebook__.ipynb",
   "output_path": "__notebook__.ipynb",
   "parameters": {},
   "start_time": "2022-09-12T02:24:31.946258",
   "version": "2.3.4"
  }
 },
 "nbformat": 4,
 "nbformat_minor": 5
}
